{
 "cells": [
  {
   "cell_type": "code",
   "execution_count": 25,
   "id": "767183d2",
   "metadata": {},
   "outputs": [],
   "source": [
    "import pandas as pd\n",
    "import numpy as np \n",
    "import seaborn as sns\n",
    "import matplotlib.pyplot as plt\n",
    "import statsmodels.api as sm \n",
    "from statsmodels.formula.api import ols\n",
    "from sklearn.model_selection import train_test_split"
   ]
  },
  {
   "cell_type": "markdown",
   "id": "89b6a012",
   "metadata": {},
   "source": [
    "### importing the data"
   ]
  },
  {
   "cell_type": "code",
   "execution_count": 3,
   "id": "1b975e70",
   "metadata": {},
   "outputs": [],
   "source": [
    "scores_df = pd.read_csv(r\"/Users/iqrabismi/Desktop/student_scores.csv\")"
   ]
  },
  {
   "cell_type": "code",
   "execution_count": 4,
   "id": "7c4040a4",
   "metadata": {},
   "outputs": [
    {
     "data": {
      "text/html": [
       "<div>\n",
       "<style scoped>\n",
       "    .dataframe tbody tr th:only-of-type {\n",
       "        vertical-align: middle;\n",
       "    }\n",
       "\n",
       "    .dataframe tbody tr th {\n",
       "        vertical-align: top;\n",
       "    }\n",
       "\n",
       "    .dataframe thead th {\n",
       "        text-align: right;\n",
       "    }\n",
       "</style>\n",
       "<table border=\"1\" class=\"dataframe\">\n",
       "  <thead>\n",
       "    <tr style=\"text-align: right;\">\n",
       "      <th></th>\n",
       "      <th>Hours</th>\n",
       "      <th>Scores</th>\n",
       "    </tr>\n",
       "  </thead>\n",
       "  <tbody>\n",
       "    <tr>\n",
       "      <th>0</th>\n",
       "      <td>2.5</td>\n",
       "      <td>21</td>\n",
       "    </tr>\n",
       "    <tr>\n",
       "      <th>1</th>\n",
       "      <td>5.1</td>\n",
       "      <td>47</td>\n",
       "    </tr>\n",
       "    <tr>\n",
       "      <th>2</th>\n",
       "      <td>3.2</td>\n",
       "      <td>27</td>\n",
       "    </tr>\n",
       "    <tr>\n",
       "      <th>3</th>\n",
       "      <td>8.5</td>\n",
       "      <td>75</td>\n",
       "    </tr>\n",
       "    <tr>\n",
       "      <th>4</th>\n",
       "      <td>3.5</td>\n",
       "      <td>30</td>\n",
       "    </tr>\n",
       "  </tbody>\n",
       "</table>\n",
       "</div>"
      ],
      "text/plain": [
       "   Hours  Scores\n",
       "0    2.5      21\n",
       "1    5.1      47\n",
       "2    3.2      27\n",
       "3    8.5      75\n",
       "4    3.5      30"
      ]
     },
     "execution_count": 4,
     "metadata": {},
     "output_type": "execute_result"
    }
   ],
   "source": [
    "scores_df.head()"
   ]
  },
  {
   "cell_type": "code",
   "execution_count": 5,
   "id": "436dc584",
   "metadata": {},
   "outputs": [
    {
     "data": {
      "text/plain": [
       "25"
      ]
     },
     "execution_count": 5,
     "metadata": {},
     "output_type": "execute_result"
    }
   ],
   "source": [
    "len(scores_df)"
   ]
  },
  {
   "cell_type": "code",
   "execution_count": 12,
   "id": "608331b6",
   "metadata": {},
   "outputs": [
    {
     "data": {
      "text/plain": [
       "25"
      ]
     },
     "execution_count": 12,
     "metadata": {},
     "output_type": "execute_result"
    }
   ],
   "source": [
    "len(scores_df[scores_df.duplicated()==False])"
   ]
  },
  {
   "cell_type": "code",
   "execution_count": 13,
   "id": "09f66530",
   "metadata": {},
   "outputs": [
    {
     "data": {
      "text/plain": [
       "Hours     0\n",
       "Scores    0\n",
       "dtype: int64"
      ]
     },
     "execution_count": 13,
     "metadata": {},
     "output_type": "execute_result"
    }
   ],
   "source": [
    "scores_df.isnull().sum()"
   ]
  },
  {
   "cell_type": "code",
   "execution_count": 15,
   "id": "2ae001e8",
   "metadata": {},
   "outputs": [
    {
     "name": "stdout",
     "output_type": "stream",
     "text": [
      "<class 'pandas.core.frame.DataFrame'>\n",
      "RangeIndex: 25 entries, 0 to 24\n",
      "Data columns (total 2 columns):\n",
      " #   Column  Non-Null Count  Dtype  \n",
      "---  ------  --------------  -----  \n",
      " 0   Hours   25 non-null     float64\n",
      " 1   Scores  25 non-null     int64  \n",
      "dtypes: float64(1), int64(1)\n",
      "memory usage: 528.0 bytes\n"
     ]
    }
   ],
   "source": [
    "scores_df.info()"
   ]
  },
  {
   "cell_type": "code",
   "execution_count": 16,
   "id": "00b5f3c8",
   "metadata": {},
   "outputs": [
    {
     "data": {
      "text/html": [
       "<div>\n",
       "<style scoped>\n",
       "    .dataframe tbody tr th:only-of-type {\n",
       "        vertical-align: middle;\n",
       "    }\n",
       "\n",
       "    .dataframe tbody tr th {\n",
       "        vertical-align: top;\n",
       "    }\n",
       "\n",
       "    .dataframe thead th {\n",
       "        text-align: right;\n",
       "    }\n",
       "</style>\n",
       "<table border=\"1\" class=\"dataframe\">\n",
       "  <thead>\n",
       "    <tr style=\"text-align: right;\">\n",
       "      <th></th>\n",
       "      <th>Hours</th>\n",
       "      <th>Scores</th>\n",
       "    </tr>\n",
       "  </thead>\n",
       "  <tbody>\n",
       "    <tr>\n",
       "      <th>count</th>\n",
       "      <td>25.000000</td>\n",
       "      <td>25.000000</td>\n",
       "    </tr>\n",
       "    <tr>\n",
       "      <th>mean</th>\n",
       "      <td>5.012000</td>\n",
       "      <td>51.480000</td>\n",
       "    </tr>\n",
       "    <tr>\n",
       "      <th>std</th>\n",
       "      <td>2.525094</td>\n",
       "      <td>25.286887</td>\n",
       "    </tr>\n",
       "    <tr>\n",
       "      <th>min</th>\n",
       "      <td>1.100000</td>\n",
       "      <td>17.000000</td>\n",
       "    </tr>\n",
       "    <tr>\n",
       "      <th>25%</th>\n",
       "      <td>2.700000</td>\n",
       "      <td>30.000000</td>\n",
       "    </tr>\n",
       "    <tr>\n",
       "      <th>50%</th>\n",
       "      <td>4.800000</td>\n",
       "      <td>47.000000</td>\n",
       "    </tr>\n",
       "    <tr>\n",
       "      <th>75%</th>\n",
       "      <td>7.400000</td>\n",
       "      <td>75.000000</td>\n",
       "    </tr>\n",
       "    <tr>\n",
       "      <th>max</th>\n",
       "      <td>9.200000</td>\n",
       "      <td>95.000000</td>\n",
       "    </tr>\n",
       "  </tbody>\n",
       "</table>\n",
       "</div>"
      ],
      "text/plain": [
       "           Hours     Scores\n",
       "count  25.000000  25.000000\n",
       "mean    5.012000  51.480000\n",
       "std     2.525094  25.286887\n",
       "min     1.100000  17.000000\n",
       "25%     2.700000  30.000000\n",
       "50%     4.800000  47.000000\n",
       "75%     7.400000  75.000000\n",
       "max     9.200000  95.000000"
      ]
     },
     "execution_count": 16,
     "metadata": {},
     "output_type": "execute_result"
    }
   ],
   "source": [
    "scores_df.describe()"
   ]
  },
  {
   "cell_type": "code",
   "execution_count": 17,
   "id": "29d69569",
   "metadata": {},
   "outputs": [
    {
     "data": {
      "text/html": [
       "<div>\n",
       "<style scoped>\n",
       "    .dataframe tbody tr th:only-of-type {\n",
       "        vertical-align: middle;\n",
       "    }\n",
       "\n",
       "    .dataframe tbody tr th {\n",
       "        vertical-align: top;\n",
       "    }\n",
       "\n",
       "    .dataframe thead th {\n",
       "        text-align: right;\n",
       "    }\n",
       "</style>\n",
       "<table border=\"1\" class=\"dataframe\">\n",
       "  <thead>\n",
       "    <tr style=\"text-align: right;\">\n",
       "      <th></th>\n",
       "      <th>Hours</th>\n",
       "      <th>Scores</th>\n",
       "    </tr>\n",
       "  </thead>\n",
       "  <tbody>\n",
       "    <tr>\n",
       "      <th>Hours</th>\n",
       "      <td>1.000000</td>\n",
       "      <td>0.976191</td>\n",
       "    </tr>\n",
       "    <tr>\n",
       "      <th>Scores</th>\n",
       "      <td>0.976191</td>\n",
       "      <td>1.000000</td>\n",
       "    </tr>\n",
       "  </tbody>\n",
       "</table>\n",
       "</div>"
      ],
      "text/plain": [
       "           Hours    Scores\n",
       "Hours   1.000000  0.976191\n",
       "Scores  0.976191  1.000000"
      ]
     },
     "execution_count": 17,
     "metadata": {},
     "output_type": "execute_result"
    }
   ],
   "source": [
    "scores_df.corr()"
   ]
  },
  {
   "cell_type": "code",
   "execution_count": 19,
   "id": "dac47efd",
   "metadata": {},
   "outputs": [
    {
     "data": {
      "text/plain": [
       "<AxesSubplot:xlabel='Hours', ylabel='Scores'>"
      ]
     },
     "execution_count": 19,
     "metadata": {},
     "output_type": "execute_result"
    },
    {
     "data": {
      "image/png": "[encoded data removed]",
      "text/plain": [
       "<Figure size 432x288 with 1 Axes>"
      ]
     },
     "metadata": {
      "needs_background": "light"
     },
     "output_type": "display_data"
    }
   ],
   "source": [
    "sns.scatterplot(data= scores_df, x='Hours', y='Scores')"
   ]
  },
  {
   "cell_type": "markdown",
   "id": "5c2bf843",
   "metadata": {},
   "source": [
    "#### Linear Relation observed between independent and dependent variable"
   ]
  },
  {
   "cell_type": "markdown",
   "id": "2aed4300",
   "metadata": {},
   "source": [
    "#### Splitting the data"
   ]
  },
  {
   "cell_type": "code",
   "execution_count": 26,
   "id": "0bbba8ba",
   "metadata": {},
   "outputs": [],
   "source": [
    "X= scores_df.Hours.values\n",
    "Y= scores_df.Scores.values"
   ]
  },
  {
   "cell_type": "code",
   "execution_count": 45,
   "id": "99c2996b",
   "metadata": {},
   "outputs": [],
   "source": [
    "xtrain,xtest, ytrain,ytest= train_test_split(X,Y,test_size= 0.2, random_state= 10)"
   ]
  },
  {
   "cell_type": "markdown",
   "id": "0cbda25e",
   "metadata": {},
   "source": [
    "## Running the Model on trained data"
   ]
  },
  {
   "cell_type": "code",
   "execution_count": 46,
   "id": "84aa5767",
   "metadata": {},
   "outputs": [],
   "source": [
    "scores_df2= pd.DataFrame({'Hours':xtrain,'Scores':ytrain})"
   ]
  },
  {
   "cell_type": "code",
   "execution_count": 47,
   "id": "9a45761d",
   "metadata": {},
   "outputs": [
    {
     "name": "stdout",
     "output_type": "stream",
     "text": [
      "Intercept    2.649965\n",
      "Hours        9.814305\n",
      "dtype: float64\n"
     ]
    }
   ],
   "source": [
    "model = ols(\"Scores ~ Hours\", data= scores_df2)\n",
    "model = model.fit()\n",
    "print(model.params)"
   ]
  },
  {
   "cell_type": "code",
   "execution_count": 48,
   "id": "4a66dfdc",
   "metadata": {},
   "outputs": [
    {
     "name": "stdout",
     "output_type": "stream",
     "text": [
      "0    17.371423\n",
      "1    52.702923\n",
      "2    35.037173\n",
      "3    34.055743\n",
      "4    46.814340\n",
      "dtype: float64\n"
     ]
    }
   ],
   "source": [
    "print(model.predict(pd.DataFrame({'Hours':xtest})))"
   ]
  },
  {
   "cell_type": "code",
   "execution_count": 49,
   "id": "827de262",
   "metadata": {},
   "outputs": [],
   "source": [
    "explanatory_data = pd.DataFrame(\n",
    "{'Hours':xtest}\n",
    ")\n",
    "prediction_data = explanatory_data.assign(\n",
    "Scores=model.predict(explanatory_data)\n",
    ")"
   ]
  },
  {
   "cell_type": "markdown",
   "id": "410d60d9",
   "metadata": {},
   "source": [
    "### Showing the Predictions"
   ]
  },
  {
   "cell_type": "code",
   "execution_count": 50,
   "id": "aa61d085",
   "metadata": {},
   "outputs": [
    {
     "data": {
      "image/png": "[encoded data removed]",
      "text/plain": [
       "<Figure size 432x288 with 1 Axes>"
      ]
     },
     "metadata": {
      "needs_background": "light"
     },
     "output_type": "display_data"
    }
   ],
   "source": [
    "fig = plt.figure()\n",
    "sns.regplot(x=\"Hours\",\n",
    "y=\"Scores\",\n",
    "ci=None,\n",
    "data=scores_df2,)\n",
    "sns.scatterplot(x=\"Hours\",\n",
    "y=\"Scores\",\n",
    "data=prediction_data,\n",
    "color=\"red\",\n",
    "marker=\"s\")\n",
    "plt.show()"
   ]
  },
  {
   "cell_type": "markdown",
   "id": "6d2aea6b",
   "metadata": {},
   "source": [
    "### Running the Model"
   ]
  },
  {
   "cell_type": "code",
   "execution_count": 60,
   "id": "a616bc75",
   "metadata": {},
   "outputs": [
    {
     "name": "stdout",
     "output_type": "stream",
     "text": [
      "Intercept    2.483673\n",
      "Hours        9.775803\n",
      "dtype: float64\n"
     ]
    }
   ],
   "source": [
    "model = ols(\"Scores ~ Hours\", data= scores_df)\n",
    "model = model.fit()\n",
    "print(model.params)"
   ]
  },
  {
   "cell_type": "markdown",
   "id": "47b899b9",
   "metadata": {},
   "source": [
    "#### Hence equation is :\n",
    "Y= 2.483673 + Hours*9.775803"
   ]
  },
  {
   "cell_type": "markdown",
   "id": "be798d56",
   "metadata": {},
   "source": [
    "### Residual attribute"
   ]
  },
  {
   "cell_type": "code",
   "execution_count": 61,
   "id": "cb616333",
   "metadata": {},
   "outputs": [
    {
     "name": "stdout",
     "output_type": "stream",
     "text": [
      "0     -5.923182\n",
      "1     -5.340271\n",
      "2     -6.766244\n",
      "3    -10.578002\n",
      "4     -6.698985\n",
      "5      2.852622\n",
      "6     -4.421065\n",
      "7      3.749408\n",
      "8     -2.622842\n",
      "9     -3.878343\n",
      "10     7.242640\n",
      "11     1.839087\n",
      "12    -5.474789\n",
      "13     7.256175\n",
      "14     3.762943\n",
      "15     5.511676\n",
      "16     3.076818\n",
      "17     2.942300\n",
      "18     4.883926\n",
      "19    -5.824618\n",
      "20     1.121657\n",
      "21     4.592470\n",
      "22    -4.631726\n",
      "23     6.063283\n",
      "24     7.265060\n",
      "dtype: float64\n"
     ]
    }
   ],
   "source": [
    "print(model.resid)"
   ]
  },
  {
   "cell_type": "markdown",
   "id": "bc8011cf",
   "metadata": {},
   "source": [
    "### Summary"
   ]
  },
  {
   "cell_type": "code",
   "execution_count": 62,
   "id": "b7484e64",
   "metadata": {},
   "outputs": [
    {
     "name": "stdout",
     "output_type": "stream",
     "text": [
      "                            OLS Regression Results                            \n",
      "==============================================================================\n",
      "Dep. Variable:                 Scores   R-squared:                       0.953\n",
      "Model:                            OLS   Adj. R-squared:                  0.951\n",
      "Method:                 Least Squares   F-statistic:                     465.8\n",
      "Date:                Fri, 02 Dec 2022   Prob (F-statistic):           9.13e-17\n",
      "Time:                        01:33:07   Log-Likelihood:                -77.514\n",
      "No. Observations:                  25   AIC:                             159.0\n",
      "Df Residuals:                      23   BIC:                             161.5\n",
      "Df Model:                           1                                         \n",
      "Covariance Type:            nonrobust                                         \n",
      "==============================================================================\n",
      "                 coef    std err          t      P>|t|      [0.025      0.975]\n",
      "------------------------------------------------------------------------------\n",
      "Intercept      2.4837      2.532      0.981      0.337      -2.753       7.721\n",
      "Hours          9.7758      0.453     21.583      0.000       8.839      10.713\n",
      "==============================================================================\n",
      "Omnibus:                        7.616   Durbin-Watson:                   1.460\n",
      "Prob(Omnibus):                  0.022   Jarque-Bera (JB):                2.137\n",
      "Skew:                          -0.216   Prob(JB):                        0.343\n",
      "Kurtosis:                       1.634   Cond. No.                         13.0\n",
      "==============================================================================\n",
      "\n",
      "Notes:\n",
      "[1] Standard Errors assume that the covariance matrix of the errors is correctly specified.\n"
     ]
    }
   ],
   "source": [
    "print(model.summary())"
   ]
  },
  {
   "cell_type": "markdown",
   "id": "39990171",
   "metadata": {},
   "source": [
    "### RSquared "
   ]
  },
  {
   "cell_type": "code",
   "execution_count": 63,
   "id": "30cae81e",
   "metadata": {},
   "outputs": [
    {
     "name": "stdout",
     "output_type": "stream",
     "text": [
      "0.9529481969048356\n"
     ]
    }
   ],
   "source": [
    "print(model.rsquared)"
   ]
  },
  {
   "cell_type": "markdown",
   "id": "509e72d3",
   "metadata": {},
   "source": [
    "### Rsquared is correlation squared"
   ]
  },
  {
   "cell_type": "code",
   "execution_count": 65,
   "id": "2c3cc6ae",
   "metadata": {},
   "outputs": [
    {
     "name": "stdout",
     "output_type": "stream",
     "text": [
      "0.9529481969048358\n"
     ]
    }
   ],
   "source": [
    "coeff_determination = scores_df[\"Scores\"].corr(scores_df[\"Hours\"]) ** 2\n",
    "print(coeff_determination)"
   ]
  },
  {
   "cell_type": "markdown",
   "id": "d03c5b80",
   "metadata": {},
   "source": [
    "### Mean Squared Error and Root Mean Squared Error"
   ]
  },
  {
   "cell_type": "code",
   "execution_count": 66,
   "id": "95b6ccd0",
   "metadata": {},
   "outputs": [
    {
     "name": "stdout",
     "output_type": "stream",
     "text": [
      "mse:  31.394272292658112\n"
     ]
    }
   ],
   "source": [
    "mse = model.mse_resid\n",
    "print('mse: ', mse)"
   ]
  },
  {
   "cell_type": "code",
   "execution_count": 67,
   "id": "ab6f8af4",
   "metadata": {},
   "outputs": [
    {
     "name": "stdout",
     "output_type": "stream",
     "text": [
      "rse:  5.6030591905367295\n"
     ]
    }
   ],
   "source": [
    "rse = np.sqrt(mse)\n",
    "print(\"rse: \", rse)"
   ]
  },
  {
   "cell_type": "markdown",
   "id": "16a120df",
   "metadata": {},
   "source": [
    "### Residual Squared"
   ]
  },
  {
   "cell_type": "code",
   "execution_count": 68,
   "id": "09d53378",
   "metadata": {},
   "outputs": [
    {
     "name": "stdout",
     "output_type": "stream",
     "text": [
      "residuals sq: \n",
      " 0      35.084084\n",
      "1      28.518491\n",
      "2      45.782061\n",
      "3     111.894131\n",
      "4      44.876404\n",
      "5       8.137449\n",
      "6      19.545812\n",
      "7      14.058060\n",
      "8       6.879298\n",
      "9      15.041541\n",
      "10     52.455841\n",
      "11      3.382239\n",
      "12     29.973311\n",
      "13     52.652082\n",
      "14     14.159739\n",
      "15     30.378577\n",
      "16      9.466810\n",
      "17      8.657130\n",
      "18     23.852732\n",
      "19     33.926181\n",
      "20      1.258115\n",
      "21     21.090784\n",
      "22     21.452888\n",
      "23     36.763403\n",
      "24     52.781099\n",
      "dtype: float64\n"
     ]
    }
   ],
   "source": [
    "residuals_sq = model.resid ** 2\n",
    "print(\"residuals sq: \\n\", residuals_sq)"
   ]
  },
  {
   "cell_type": "markdown",
   "id": "fc0df924",
   "metadata": {},
   "source": [
    "### RSE (Residual Standard Error)"
   ]
  },
  {
   "cell_type": "code",
   "execution_count": 70,
   "id": "0b0a5ec9",
   "metadata": {},
   "outputs": [
    {
     "data": {
      "text/plain": [
       "('deg freedom: ', 23)"
      ]
     },
     "execution_count": 70,
     "metadata": {},
     "output_type": "execute_result"
    }
   ],
   "source": [
    "residuals_sq = model.resid **2\n",
    "resid_sum_of_sq =sum(residuals_sq) \n",
    "deg_freedom =len(scores_df.index) -2\n",
    "print\n",
    "(\"deg freedom: \", deg_freedom)"
   ]
  },
  {
   "cell_type": "code",
   "execution_count": 71,
   "id": "33e3c01b",
   "metadata": {},
   "outputs": [
    {
     "name": "stdout",
     "output_type": "stream",
     "text": [
      "rse : 5.6030591905367295\n"
     ]
    }
   ],
   "source": [
    "residuals_sq = model.resid **2\n",
    "resid_sum_of_sq =sum(residuals_sq) \n",
    "deg_freedom =len(scores_df.index) -2\n",
    "rse = np.sqrt(resid_sum_of_sq/deg_freedom)\n",
    "print(\"rse :\", rse)"
   ]
  },
  {
   "cell_type": "markdown",
   "id": "f229bb53",
   "metadata": {},
   "source": [
    "#### Intrepreting RSE: The difference between predicted scores  and observed scores is typically around 5."
   ]
  },
  {
   "cell_type": "markdown",
   "id": "0d30d89d",
   "metadata": {},
   "source": [
    "## Analysing the Model fit based in Linear Regression conditions"
   ]
  },
  {
   "cell_type": "markdown",
   "id": "26f81cbb",
   "metadata": {},
   "source": [
    "### 1. Linear Relation Between Dependent and independent variable"
   ]
  },
  {
   "cell_type": "code",
   "execution_count": 98,
   "id": "986641d9",
   "metadata": {},
   "outputs": [
    {
     "data": {
      "text/plain": [
       "<AxesSubplot:xlabel='Hours', ylabel='Scores'>"
      ]
     },
     "execution_count": 98,
     "metadata": {},
     "output_type": "execute_result"
    },
    {
     "data": {
      "image/png": "[encoded data removed]",
      "text/plain": [
       "<Figure size 432x288 with 1 Axes>"
      ]
     },
     "metadata": {
      "needs_background": "light"
     },
     "output_type": "display_data"
    }
   ],
   "source": [
    "sns.scatterplot(data= scores_df, x='Hours', y='Scores')"
   ]
  },
  {
   "cell_type": "markdown",
   "id": "ee201be9",
   "metadata": {},
   "source": [
    "### 2. Residual are to be normally distributed. This can be checked by quantile plot and distplot"
   ]
  },
  {
   "cell_type": "code",
   "execution_count": 72,
   "id": "1931afaf",
   "metadata": {},
   "outputs": [
    {
     "data": {
      "text/plain": [
       "Text(0, 0.5, 'Residuals')"
      ]
     },
     "execution_count": 72,
     "metadata": {},
     "output_type": "execute_result"
    },
    {
     "data": {
      "image/png": "[encoded data removed]",
      "text/plain": [
       "<Figure size 432x288 with 1 Axes>"
      ]
     },
     "metadata": {
      "needs_background": "light"
     },
     "output_type": "display_data"
    }
   ],
   "source": [
    "sns.residplot(x=\"Hours\", y=\"Scores\", data=scores_df, lowess=True)\n",
    "plt.xlabel(\"Fitted values\")\n",
    "plt.ylabel(\"Residuals\")"
   ]
  },
  {
   "cell_type": "code",
   "execution_count": 73,
   "id": "5f63b787",
   "metadata": {},
   "outputs": [
    {
     "data": {
      "image/png": "[encoded data removed]",
      "text/plain": [
       "<Figure size 432x288 with 1 Axes>"
      ]
     },
     "execution_count": 73,
     "metadata": {},
     "output_type": "execute_result"
    },
    {
     "data": {
      "image/png": "[encoded data removed]",
      "text/plain": [
       "<Figure size 432x288 with 1 Axes>"
      ]
     },
     "metadata": {
      "needs_background": "light"
     },
     "output_type": "display_data"
    }
   ],
   "source": [
    "from statsmodels.api import qqplot\n",
    "qqplot(data=model.resid, fit=True, line=\"45\")"
   ]
  },
  {
   "cell_type": "code",
   "execution_count": 74,
   "id": "e4905016",
   "metadata": {},
   "outputs": [
    {
     "name": "stderr",
     "output_type": "stream",
     "text": [
      "/opt/anaconda3/lib/python3.9/site-packages/seaborn/distributions.py:2619: FutureWarning: `distplot` is a deprecated function and will be removed in a future version. Please adapt your code to use either `displot` (a figure-level function with similar flexibility) or `histplot` (an axes-level function for histograms).\n",
      "  warnings.warn(msg, FutureWarning)\n"
     ]
    },
    {
     "data": {
      "text/plain": [
       "<AxesSubplot:ylabel='Density'>"
      ]
     },
     "execution_count": 74,
     "metadata": {},
     "output_type": "execute_result"
    },
    {
     "data": {
      "image/png": "[encoded data removed]",
      "text/plain": [
       "<Figure size 432x288 with 1 Axes>"
      ]
     },
     "metadata": {
      "needs_background": "light"
     },
     "output_type": "display_data"
    }
   ],
   "source": [
    "sns.distplot(model.resid)"
   ]
  },
  {
   "cell_type": "markdown",
   "id": "5259b5b4",
   "metadata": {},
   "source": [
    "#### In quantile plot,the residuals roughly lie on the straight line. Also, in distplot, the distribution is bimodal. Hence, residual are normally distributed"
   ]
  },
  {
   "cell_type": "markdown",
   "id": "89005547",
   "metadata": {},
   "source": [
    "### Homodasticity  i.e variance of the residual is constant. This can be checked by Scale-location plot"
   ]
  },
  {
   "cell_type": "code",
   "execution_count": 75,
   "id": "d303f158",
   "metadata": {},
   "outputs": [
    {
     "data": {
      "text/plain": [
       "Text(0, 0.5, 'Sqrt of abs val of stdized residuals')"
      ]
     },
     "execution_count": 75,
     "metadata": {},
     "output_type": "execute_result"
    },
    {
     "data": {
      "image/png": "[encoded data removed]",
      "text/plain": [
       "<Figure size 432x288 with 1 Axes>"
      ]
     },
     "metadata": {
      "needs_background": "light"
     },
     "output_type": "display_data"
    }
   ],
   "source": [
    "model_norm_residuals = model.get_influence().resid_studentized_internal\n",
    "model_norm_residuals_abs_sqrt = np.sqrt(np.abs(model_norm_residuals))\n",
    "sns.regplot(x=model.fittedvalues, y=model_norm_residuals_abs_sqrt, ci=None, lowess=True)\n",
    "plt.xlabel(\"Fitted values\")\n",
    "plt.ylabel(\"Sqrt of abs val of stdized residuals\")"
   ]
  },
  {
   "cell_type": "code",
   "execution_count": 77,
   "id": "8630d19a",
   "metadata": {},
   "outputs": [
    {
     "name": "stderr",
     "output_type": "stream",
     "text": [
      "/var/folders/fg/0cvyhxdj5v7503hv35z31yhr0000gn/T/ipykernel_43864/1753263740.py:3: UserWarning: Matplotlib is currently using module://matplotlib_inline.backend_inline, which is a non-GUI backend, so cannot show the figure.\n",
      "  acf.show()\n"
     ]
    },
    {
     "data": {
      "image/png": "[encoded data removed]",
      "text/plain": [
       "<Figure size 432x288 with 1 Axes>"
      ]
     },
     "metadata": {
      "needs_background": "light"
     },
     "output_type": "display_data"
    }
   ],
   "source": [
    "import statsmodels.tsa.api as smt\n",
    "acf = smt.graphics.plot_acf(model.resid, lags=4 , alpha=0.05)\n",
    "acf.show()"
   ]
  },
  {
   "cell_type": "markdown",
   "id": "0efade4d",
   "metadata": {},
   "source": [
    "#### The line is roughly horizontal and the residuals are randomly scattered. Hence, no correlation amongst the residuals."
   ]
  },
  {
   "cell_type": "markdown",
   "id": "100ee7bb",
   "metadata": {},
   "source": [
    "### No Multicollinearity \n",
    "As there is only one independent feature, so multicollinearity doesn't exist. If the number of descriptive features are more than one. \n",
    "Then we can check multicollinearity by using statsmodel variance inflation factor. \n",
    "\n",
    "from statsmodels.stats.outliers_influence import variance_inflation_factor"
   ]
  },
  {
   "cell_type": "markdown",
   "id": "8dd48a0a",
   "metadata": {},
   "source": [
    "### No outliers"
   ]
  },
  {
   "cell_type": "markdown",
   "id": "5a829af9",
   "metadata": {},
   "source": [
    "#### \n",
    "Checking for extreme values by IQR ie. if the value is less than q1 - 1.5 iqr and if greater than q3+ 1.5 iqr.\n",
    "Then it is extreme. "
   ]
  },
  {
   "cell_type": "code",
   "execution_count": 85,
   "id": "921a6fbd",
   "metadata": {},
   "outputs": [],
   "source": [
    "iqr= np.quantile(scores_df['Hours'],0.75) - np.quantile(scores_df['Hours'],0.25)"
   ]
  },
  {
   "cell_type": "code",
   "execution_count": 93,
   "id": "67fdeb2a",
   "metadata": {},
   "outputs": [
    {
     "data": {
      "text/plain": [
       "<AxesSubplot:xlabel='Hours', ylabel='Scores'>"
      ]
     },
     "execution_count": 93,
     "metadata": {},
     "output_type": "execute_result"
    },
    {
     "data": {
      "image/png": "[encoded data removed]",
      "text/plain": [
       "<Figure size 432x288 with 1 Axes>"
      ]
     },
     "metadata": {
      "needs_background": "light"
     },
     "output_type": "display_data"
    }
   ],
   "source": [
    "scores_df[\"extreme_h\"] = ((scores_df[\"Hours\"] < (np.quantile(scores_df['Hours'],0.25) - (1.5*iqr))) |\n",
    "(scores_df[\"Hours\"] > (np.quantile(scores_df['Hours'],0.75) + (1.5*iqr))))\n",
    "fig = plt.figure()\n",
    "sns.regplot(x=\"Hours\",\n",
    "y=\"Scores\",\n",
    "data=scores_df,\n",
    "ci=None)\n",
    "sns.scatterplot(x=\"Hours\",\n",
    "y=\"Scores\",\n",
    "hue=\"extreme_h\",\n",
    "data=scores_df)"
   ]
  },
  {
   "cell_type": "raw",
   "id": "08a52448",
   "metadata": {},
   "source": [
    "Calculating outliers by cook's distance. Cook's distance is the most common measure of infuence.\n",
    "\n",
    "Leverage is a measure of how extreme the explanatory variable values are.\n",
    "\n",
    "Infuence measures how much the model would change if you le/ the observation out of the\n",
    "dataset when modeling."
   ]
  },
  {
   "cell_type": "code",
   "execution_count": 79,
   "id": "b246edc2",
   "metadata": {},
   "outputs": [
    {
     "name": "stdout",
     "output_type": "stream",
     "text": [
      "   Hours  Scores  leverage\n",
      "0    2.5      21  0.081236\n",
      "1    5.1      47  0.040051\n",
      "2    3.2      27  0.061456\n",
      "3    8.5      75  0.119504\n",
      "4    3.5      30  0.054940\n"
     ]
    }
   ],
   "source": [
    "model = ols(\"Scores ~ Hours\", data=scores_df).fit()\n",
    "summary = model.get_influence().summary_frame()\n",
    "scores_df[\"leverage\"] = summary_roach[\"hat_diag\"]\n",
    "print(scores_df.head())"
   ]
  },
  {
   "cell_type": "code",
   "execution_count": 81,
   "id": "bfca953d",
   "metadata": {},
   "outputs": [
    {
     "name": "stdout",
     "output_type": "stream",
     "text": [
      "   Hours  Scores  leverage  cooks_dist\n",
      "0    2.5      21  0.081236    0.053773\n",
      "1    5.1      47  0.040051    0.019741\n",
      "2    3.2      27  0.061456    0.050871\n",
      "3    8.5      75  0.119504    0.274696\n",
      "4    3.5      30  0.054940    0.043965\n"
     ]
    }
   ],
   "source": [
    "scores_df[\"cooks_dist\"] = summary_roach[\"cooks_d\"]\n",
    "print(scores_df.head())"
   ]
  },
  {
   "cell_type": "code",
   "execution_count": 82,
   "id": "96c227b5",
   "metadata": {},
   "outputs": [
    {
     "name": "stdout",
     "output_type": "stream",
     "text": [
      "    Hours  Scores  leverage  cooks_dist\n",
      "3     8.5      75  0.119504    0.274696\n",
      "24    7.8      86  0.090795    0.092328\n",
      "15    8.9      95  0.138784    0.090532\n",
      "10    7.7      85  0.087216    0.087453\n",
      "6     9.2      88  0.154616    0.067347\n",
      "13    3.3      42  0.059153    0.056037\n",
      "0     2.5      21  0.081236    0.053773\n",
      "2     3.2      27  0.061456    0.050871\n",
      "19    7.4      69  0.077265    0.049032\n",
      "4     3.5      30  0.054940    0.043965\n",
      "14    1.1      17  0.140007    0.042691\n",
      "23    6.9      76  0.063294    0.042237\n",
      "12    4.5      41  0.041713    0.021684\n",
      "9     2.7      25  0.074931    0.020976\n",
      "5     1.5      20  0.120601    0.020211\n",
      "18    6.1      67  0.047736    0.019998\n",
      "1     5.1      47  0.040051    0.019741\n",
      "22    3.8      35  0.049599    0.018761\n",
      "17    1.9      24  0.103287    0.017711\n",
      "8     8.3      81  0.110648    0.015327\n",
      "21    4.8      54  0.040294    0.014695\n",
      "16    2.5      30  0.081236    0.014510\n",
      "7     5.5      60  0.041556    0.010129\n",
      "11    5.9      62  0.045153    0.002668\n",
      "20    2.7      30  0.074931    0.001754\n"
     ]
    }
   ],
   "source": [
    "print(scores_df.sort_values(\"cooks_dist\", ascending = False))"
   ]
  },
  {
   "cell_type": "markdown",
   "id": "cb4ad070",
   "metadata": {},
   "source": [
    "#### Hence all the values are in range and no extreme values are observed by cook's distance as well as IQR method"
   ]
  },
  {
   "cell_type": "markdown",
   "id": "5a025358",
   "metadata": {},
   "source": [
    "### From the above analysis,we checked that all the base conditions are satisfied"
   ]
  },
  {
   "cell_type": "markdown",
   "id": "a0115e58",
   "metadata": {},
   "source": [
    "## Fitting the OLS line"
   ]
  },
  {
   "cell_type": "code",
   "execution_count": 100,
   "id": "aaa26bbd",
   "metadata": {},
   "outputs": [
    {
     "data": {
      "text/plain": [
       "[<matplotlib.lines.Line2D at 0x7fd6c02dcdc0>]"
      ]
     },
     "execution_count": 100,
     "metadata": {},
     "output_type": "execute_result"
    },
    {
     "data": {
      "image/png": "[encoded data removed]",
      "text/plain": [
       "<Figure size 432x288 with 1 Axes>"
      ]
     },
     "metadata": {
      "needs_background": "light"
     },
     "output_type": "display_data"
    }
   ],
   "source": [
    "# Fitting the OLS regression line\n",
    "\n",
    "sns.scatterplot(data=scores_df,x=\"Hours\",y=\"Scores\")\n",
    "x=np.linspace(min(scores_df['Hours']),max(scores_df['Hours']),30)\n",
    "y=model.params[0]+ (x * model.params[1])\n",
    "plt.plot(x,y)"
   ]
  },
  {
   "cell_type": "code",
   "execution_count": 99,
   "id": "0a9ad0c7",
   "metadata": {},
   "outputs": [
    {
     "data": {
      "text/plain": [
       "<AxesSubplot:xlabel='Hours', ylabel='Scores'>"
      ]
     },
     "execution_count": 99,
     "metadata": {},
     "output_type": "execute_result"
    },
    {
     "data": {
      "image/png": "[encoded data removed]",
      "text/plain": [
       "<Figure size 432x288 with 1 Axes>"
      ]
     },
     "metadata": {
      "needs_background": "light"
     },
     "output_type": "display_data"
    }
   ],
   "source": [
    "sns.regplot(data= scores_df, x='Hours', y='Scores', ci= None)"
   ]
  },
  {
   "cell_type": "code",
   "execution_count": null,
   "id": "9c581c9c",
   "metadata": {},
   "outputs": [],
   "source": []
  }
 ],
 "metadata": {
  "kernelspec": {
   "display_name": "Python 3 (ipykernel)",
   "language": "python",
   "name": "python3"
  },
  "language_info": {
   "codemirror_mode": {
    "name": "ipython",
    "version": 3
   },
   "file_extension": ".py",
   "mimetype": "text/x-python",
   "name": "python",
   "nbconvert_exporter": "python",
   "pygments_lexer": "ipython3",
   "version": "3.9.7"
  }
 },
 "nbformat": 4,
 "nbformat_minor": 5
}
