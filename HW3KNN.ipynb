{
 "cells": [
  {
   "cell_type": "markdown",
   "id": "302d513c",
   "metadata": {},
   "source": [
    "# Que 6.Could you implement your own KNN function from scratch (without  calling any existing classifier packages)? Your own KNN function must have following parameters  to tune: n_neighbors, weights. Can you compare your own classifier with sklearn neighbors.KNeighborsClassifier in terms performance, complexity, etc. Data usage: datasets.load_iris() from sklearn."
   ]
  },
  {
   "cell_type": "code",
   "execution_count": 1,
   "id": "173faf8f",
   "metadata": {},
   "outputs": [],
   "source": [
    "from sklearn.datasets import load_iris #importing the iris dataset from SKlearn \n",
    "import seaborn as sns\n",
    "import pandas as pd\n",
    "import numpy as np\n",
    "from scipy.stats import mode\n",
    "from sklearn.preprocessing import StandardScaler\n"
   ]
  },
  {
   "cell_type": "markdown",
   "id": "2e8d6f39",
   "metadata": {},
   "source": [
    "## EDA"
   ]
  },
  {
   "cell_type": "code",
   "execution_count": 2,
   "id": "21397f0c",
   "metadata": {},
   "outputs": [
    {
     "data": {
      "text/html": [
       "<div>\n",
       "<style scoped>\n",
       "    .dataframe tbody tr th:only-of-type {\n",
       "        vertical-align: middle;\n",
       "    }\n",
       "\n",
       "    .dataframe tbody tr th {\n",
       "        vertical-align: top;\n",
       "    }\n",
       "\n",
       "    .dataframe thead th {\n",
       "        text-align: right;\n",
       "    }\n",
       "</style>\n",
       "<table border=\"1\" class=\"dataframe\">\n",
       "  <thead>\n",
       "    <tr style=\"text-align: right;\">\n",
       "      <th></th>\n",
       "      <th>sepal length (cm)</th>\n",
       "      <th>sepal width (cm)</th>\n",
       "      <th>petal length (cm)</th>\n",
       "      <th>petal width (cm)</th>\n",
       "      <th>Species</th>\n",
       "    </tr>\n",
       "  </thead>\n",
       "  <tbody>\n",
       "    <tr>\n",
       "      <th>0</th>\n",
       "      <td>5.1</td>\n",
       "      <td>3.5</td>\n",
       "      <td>1.4</td>\n",
       "      <td>0.2</td>\n",
       "      <td>0</td>\n",
       "    </tr>\n",
       "    <tr>\n",
       "      <th>1</th>\n",
       "      <td>4.9</td>\n",
       "      <td>3.0</td>\n",
       "      <td>1.4</td>\n",
       "      <td>0.2</td>\n",
       "      <td>0</td>\n",
       "    </tr>\n",
       "    <tr>\n",
       "      <th>2</th>\n",
       "      <td>4.7</td>\n",
       "      <td>3.2</td>\n",
       "      <td>1.3</td>\n",
       "      <td>0.2</td>\n",
       "      <td>0</td>\n",
       "    </tr>\n",
       "    <tr>\n",
       "      <th>3</th>\n",
       "      <td>4.6</td>\n",
       "      <td>3.1</td>\n",
       "      <td>1.5</td>\n",
       "      <td>0.2</td>\n",
       "      <td>0</td>\n",
       "    </tr>\n",
       "    <tr>\n",
       "      <th>4</th>\n",
       "      <td>5.0</td>\n",
       "      <td>3.6</td>\n",
       "      <td>1.4</td>\n",
       "      <td>0.2</td>\n",
       "      <td>0</td>\n",
       "    </tr>\n",
       "  </tbody>\n",
       "</table>\n",
       "</div>"
      ],
      "text/plain": [
       "   sepal length (cm)  sepal width (cm)  petal length (cm)  petal width (cm)  \\\n",
       "0                5.1               3.5                1.4               0.2   \n",
       "1                4.9               3.0                1.4               0.2   \n",
       "2                4.7               3.2                1.3               0.2   \n",
       "3                4.6               3.1                1.5               0.2   \n",
       "4                5.0               3.6                1.4               0.2   \n",
       "\n",
       "   Species  \n",
       "0        0  \n",
       "1        0  \n",
       "2        0  \n",
       "3        0  \n",
       "4        0  "
      ]
     },
     "execution_count": 2,
     "metadata": {},
     "output_type": "execute_result"
    }
   ],
   "source": [
    "data = load_iris()\n",
    "df = pd.DataFrame(data=data.data, columns=data.feature_names)\n",
    "df1 = pd.DataFrame(load_iris().target, columns=['Species'])\n",
    "df = pd.concat([df,df1], axis=1)\n",
    "df.head()"
   ]
  },
  {
   "cell_type": "code",
   "execution_count": 3,
   "id": "0312049e",
   "metadata": {},
   "outputs": [],
   "source": [
    "df.columns= [\"sepal_length\", \"sepal_width\",\"petal_length\",\"petal_width\",\"species\"] #changing the column names"
   ]
  },
  {
   "cell_type": "code",
   "execution_count": 4,
   "id": "bf4bb083",
   "metadata": {},
   "outputs": [
    {
     "name": "stdout",
     "output_type": "stream",
     "text": [
      "<class 'pandas.core.frame.DataFrame'>\n",
      "RangeIndex: 150 entries, 0 to 149\n",
      "Data columns (total 5 columns):\n",
      " #   Column        Non-Null Count  Dtype  \n",
      "---  ------        --------------  -----  \n",
      " 0   sepal_length  150 non-null    float64\n",
      " 1   sepal_width   150 non-null    float64\n",
      " 2   petal_length  150 non-null    float64\n",
      " 3   petal_width   150 non-null    float64\n",
      " 4   species       150 non-null    int64  \n",
      "dtypes: float64(4), int64(1)\n",
      "memory usage: 6.0 KB\n"
     ]
    }
   ],
   "source": [
    "df.info()\n",
    "# checking the data types"
   ]
  },
  {
   "cell_type": "code",
   "execution_count": 5,
   "id": "b4604ead",
   "metadata": {},
   "outputs": [
    {
     "data": {
      "text/plain": [
       "sepal_length    0\n",
       "sepal_width     0\n",
       "petal_length    0\n",
       "petal_width     0\n",
       "species         0\n",
       "dtype: int64"
      ]
     },
     "execution_count": 5,
     "metadata": {},
     "output_type": "execute_result"
    }
   ],
   "source": [
    "df.isnull().sum() # checking for null values"
   ]
  },
  {
   "cell_type": "code",
   "execution_count": 6,
   "id": "5ebeade7",
   "metadata": {},
   "outputs": [
    {
     "data": {
      "text/html": [
       "<div>\n",
       "<style scoped>\n",
       "    .dataframe tbody tr th:only-of-type {\n",
       "        vertical-align: middle;\n",
       "    }\n",
       "\n",
       "    .dataframe tbody tr th {\n",
       "        vertical-align: top;\n",
       "    }\n",
       "\n",
       "    .dataframe thead th {\n",
       "        text-align: right;\n",
       "    }\n",
       "</style>\n",
       "<table border=\"1\" class=\"dataframe\">\n",
       "  <thead>\n",
       "    <tr style=\"text-align: right;\">\n",
       "      <th></th>\n",
       "      <th>sepal_length</th>\n",
       "      <th>sepal_width</th>\n",
       "      <th>petal_length</th>\n",
       "      <th>petal_width</th>\n",
       "      <th>species</th>\n",
       "    </tr>\n",
       "  </thead>\n",
       "  <tbody>\n",
       "    <tr>\n",
       "      <th>count</th>\n",
       "      <td>150.000000</td>\n",
       "      <td>150.000000</td>\n",
       "      <td>150.000000</td>\n",
       "      <td>150.000000</td>\n",
       "      <td>150.000000</td>\n",
       "    </tr>\n",
       "    <tr>\n",
       "      <th>mean</th>\n",
       "      <td>5.843333</td>\n",
       "      <td>3.057333</td>\n",
       "      <td>3.758000</td>\n",
       "      <td>1.199333</td>\n",
       "      <td>1.000000</td>\n",
       "    </tr>\n",
       "    <tr>\n",
       "      <th>std</th>\n",
       "      <td>0.828066</td>\n",
       "      <td>0.435866</td>\n",
       "      <td>1.765298</td>\n",
       "      <td>0.762238</td>\n",
       "      <td>0.819232</td>\n",
       "    </tr>\n",
       "    <tr>\n",
       "      <th>min</th>\n",
       "      <td>4.300000</td>\n",
       "      <td>2.000000</td>\n",
       "      <td>1.000000</td>\n",
       "      <td>0.100000</td>\n",
       "      <td>0.000000</td>\n",
       "    </tr>\n",
       "    <tr>\n",
       "      <th>25%</th>\n",
       "      <td>5.100000</td>\n",
       "      <td>2.800000</td>\n",
       "      <td>1.600000</td>\n",
       "      <td>0.300000</td>\n",
       "      <td>0.000000</td>\n",
       "    </tr>\n",
       "    <tr>\n",
       "      <th>50%</th>\n",
       "      <td>5.800000</td>\n",
       "      <td>3.000000</td>\n",
       "      <td>4.350000</td>\n",
       "      <td>1.300000</td>\n",
       "      <td>1.000000</td>\n",
       "    </tr>\n",
       "    <tr>\n",
       "      <th>75%</th>\n",
       "      <td>6.400000</td>\n",
       "      <td>3.300000</td>\n",
       "      <td>5.100000</td>\n",
       "      <td>1.800000</td>\n",
       "      <td>2.000000</td>\n",
       "    </tr>\n",
       "    <tr>\n",
       "      <th>max</th>\n",
       "      <td>7.900000</td>\n",
       "      <td>4.400000</td>\n",
       "      <td>6.900000</td>\n",
       "      <td>2.500000</td>\n",
       "      <td>2.000000</td>\n",
       "    </tr>\n",
       "  </tbody>\n",
       "</table>\n",
       "</div>"
      ],
      "text/plain": [
       "       sepal_length  sepal_width  petal_length  petal_width     species\n",
       "count    150.000000   150.000000    150.000000   150.000000  150.000000\n",
       "mean       5.843333     3.057333      3.758000     1.199333    1.000000\n",
       "std        0.828066     0.435866      1.765298     0.762238    0.819232\n",
       "min        4.300000     2.000000      1.000000     0.100000    0.000000\n",
       "25%        5.100000     2.800000      1.600000     0.300000    0.000000\n",
       "50%        5.800000     3.000000      4.350000     1.300000    1.000000\n",
       "75%        6.400000     3.300000      5.100000     1.800000    2.000000\n",
       "max        7.900000     4.400000      6.900000     2.500000    2.000000"
      ]
     },
     "execution_count": 6,
     "metadata": {},
     "output_type": "execute_result"
    }
   ],
   "source": [
    "df.describe()"
   ]
  },
  {
   "cell_type": "code",
   "execution_count": 7,
   "id": "572fa93f",
   "metadata": {},
   "outputs": [
    {
     "data": {
      "text/plain": [
       "['setosa', 'versicolor', 'virginica']"
      ]
     },
     "execution_count": 7,
     "metadata": {},
     "output_type": "execute_result"
    }
   ],
   "source": [
    "list(data.target_names)"
   ]
  },
  {
   "cell_type": "code",
   "execution_count": 8,
   "id": "8250fbff",
   "metadata": {},
   "outputs": [
    {
     "data": {
      "text/plain": [
       "setosa        50\n",
       "versicolor    50\n",
       "virginica     50\n",
       "Name: species_names, dtype: int64"
      ]
     },
     "execution_count": 8,
     "metadata": {},
     "output_type": "execute_result"
    }
   ],
   "source": [
    "species_map={0:'setosa',1:'versicolor',2:'virginica'}\n",
    "df[\"species_names\"]= df[\"species\"].apply(lambda x:species_map.get(x))\n",
    "df= df.drop('species',axis=1)\n",
    "df.species_names.value_counts()"
   ]
  },
  {
   "cell_type": "code",
   "execution_count": 9,
   "id": "3444e8e1",
   "metadata": {},
   "outputs": [
    {
     "data": {
      "text/plain": [
       "<seaborn.axisgrid.PairGrid at 0x7fde250747f0>"
      ]
     },
     "execution_count": 9,
     "metadata": {},
     "output_type": "execute_result"
    },
    {
     "data": {
      "image/png": "[encoded data removed]",
      "text/plain": [
       "<Figure size 804.75x720 with 20 Axes>"
      ]
     },
     "metadata": {
      "needs_background": "light"
     },
     "output_type": "display_data"
    }
   ],
   "source": [
    "sns.pairplot(df,hue=\"species_names\", kind=\"scatter\")"
   ]
  },
  {
   "cell_type": "code",
   "execution_count": 10,
   "id": "3e943f08",
   "metadata": {},
   "outputs": [
    {
     "data": {
      "text/html": [
       "<div>\n",
       "<style scoped>\n",
       "    .dataframe tbody tr th:only-of-type {\n",
       "        vertical-align: middle;\n",
       "    }\n",
       "\n",
       "    .dataframe tbody tr th {\n",
       "        vertical-align: top;\n",
       "    }\n",
       "\n",
       "    .dataframe thead th {\n",
       "        text-align: right;\n",
       "    }\n",
       "</style>\n",
       "<table border=\"1\" class=\"dataframe\">\n",
       "  <thead>\n",
       "    <tr style=\"text-align: right;\">\n",
       "      <th></th>\n",
       "      <th>sepal length (cm)</th>\n",
       "      <th>sepal width (cm)</th>\n",
       "      <th>petal length (cm)</th>\n",
       "      <th>petal width (cm)</th>\n",
       "      <th>Species</th>\n",
       "    </tr>\n",
       "  </thead>\n",
       "  <tbody>\n",
       "    <tr>\n",
       "      <th>0</th>\n",
       "      <td>5.1</td>\n",
       "      <td>3.5</td>\n",
       "      <td>1.4</td>\n",
       "      <td>0.2</td>\n",
       "      <td>0</td>\n",
       "    </tr>\n",
       "    <tr>\n",
       "      <th>1</th>\n",
       "      <td>4.9</td>\n",
       "      <td>3.0</td>\n",
       "      <td>1.4</td>\n",
       "      <td>0.2</td>\n",
       "      <td>0</td>\n",
       "    </tr>\n",
       "    <tr>\n",
       "      <th>2</th>\n",
       "      <td>4.7</td>\n",
       "      <td>3.2</td>\n",
       "      <td>1.3</td>\n",
       "      <td>0.2</td>\n",
       "      <td>0</td>\n",
       "    </tr>\n",
       "    <tr>\n",
       "      <th>3</th>\n",
       "      <td>4.6</td>\n",
       "      <td>3.1</td>\n",
       "      <td>1.5</td>\n",
       "      <td>0.2</td>\n",
       "      <td>0</td>\n",
       "    </tr>\n",
       "    <tr>\n",
       "      <th>4</th>\n",
       "      <td>5.0</td>\n",
       "      <td>3.6</td>\n",
       "      <td>1.4</td>\n",
       "      <td>0.2</td>\n",
       "      <td>0</td>\n",
       "    </tr>\n",
       "  </tbody>\n",
       "</table>\n",
       "</div>"
      ],
      "text/plain": [
       "   sepal length (cm)  sepal width (cm)  petal length (cm)  petal width (cm)  \\\n",
       "0                5.1               3.5                1.4               0.2   \n",
       "1                4.9               3.0                1.4               0.2   \n",
       "2                4.7               3.2                1.3               0.2   \n",
       "3                4.6               3.1                1.5               0.2   \n",
       "4                5.0               3.6                1.4               0.2   \n",
       "\n",
       "   Species  \n",
       "0        0  \n",
       "1        0  \n",
       "2        0  \n",
       "3        0  \n",
       "4        0  "
      ]
     },
     "execution_count": 10,
     "metadata": {},
     "output_type": "execute_result"
    }
   ],
   "source": [
    "data = load_iris()\n",
    "df = pd.DataFrame(data=data.data, columns=data.feature_names)\n",
    "df1 = pd.DataFrame(load_iris().target, columns=['Species'])\n",
    "df = pd.concat([df,df1], axis=1)\n",
    "df.head()"
   ]
  },
  {
   "cell_type": "markdown",
   "id": "41010c79",
   "metadata": {},
   "source": [
    "## Creating the KNN Function for K=4"
   ]
  },
  {
   "cell_type": "code",
   "execution_count": 11,
   "id": "a3fe498b",
   "metadata": {},
   "outputs": [],
   "source": [
    "X = data.data  \n",
    "y = data.target"
   ]
  },
  {
   "cell_type": "code",
   "execution_count": 12,
   "id": "da8a12bb",
   "metadata": {},
   "outputs": [],
   "source": [
    "from sklearn.model_selection import train_test_split"
   ]
  },
  {
   "cell_type": "code",
   "execution_count": 13,
   "id": "a1e42660",
   "metadata": {},
   "outputs": [
    {
     "name": "stdout",
     "output_type": "stream",
     "text": [
      "The Accuracy of the  model: 100.0\n"
     ]
    }
   ],
   "source": [
    "class KNN_Classifier: \n",
    "      \n",
    "    def __init__( self, K ) :  # initialising Value of K neighbours\n",
    "          \n",
    "        self.K = K\n",
    "          \n",
    "    # Function to store training set\n",
    "          \n",
    "    def fit( self, X_train, Y_train ) :\n",
    "          \n",
    "        self.X_train = X_train\n",
    "          \n",
    "        self.Y_train = Y_train\n",
    "          \n",
    "        # no_of_training_examples, no_of_features\n",
    "          \n",
    "        self.m, self.n = X_train.shape\n",
    "      \n",
    "    # Function for prediction\n",
    "          \n",
    "    def predict( self, X_test ) :\n",
    "          \n",
    "        self.X_test = X_test\n",
    "          \n",
    "        # no_of_test_examples, no_of_features\n",
    "          \n",
    "        self.m_test, self.n = X_test.shape\n",
    "          \n",
    "        # initialize Y_predict\n",
    "          \n",
    "        Y_predict = np.zeros( self.m_test )\n",
    "          \n",
    "        for i in range( self.m_test ) :\n",
    "              \n",
    "            x = self.X_test[i]\n",
    "              \n",
    "            # find the K nearest neighbors from current test example\n",
    "              \n",
    "            neighbors = np.zeros( self.K )\n",
    "              \n",
    "            neighbors = self.find_neighbors( x )\n",
    "              \n",
    "            # most frequent class in K neighbors\n",
    "              \n",
    "            Y_predict[i] = mode( neighbors )[0][0]    \n",
    "              \n",
    "        return Y_predict\n",
    "      \n",
    "    # Function to find the K nearest neighbors to current test example\n",
    "            \n",
    "    def find_neighbors( self, x ) :\n",
    "          \n",
    "        # calculate all the euclidean distances between current \n",
    "        # test example x and training set X_train\n",
    "          \n",
    "        euclidean_distances = np.zeros( self.m )\n",
    "          \n",
    "        for i in range( self.m ) :\n",
    "              \n",
    "            d = self.euclidean( x, self.X_train[i] )\n",
    "              \n",
    "            euclidean_distances[i] = d\n",
    "          \n",
    "        # sort Y_train according to euclidean_distance_array and \n",
    "        # store into Y_train_sorted\n",
    "          \n",
    "        inds = euclidean_distances.argsort()\n",
    "          \n",
    "        Y_train_sorted = self.Y_train[inds]\n",
    "        \n",
    "          \n",
    "        return Y_train_sorted[:self.K]\n",
    "      \n",
    "    # Function to calculate euclidean distance\n",
    "              \n",
    "    def euclidean( self, x, x_train ) :\n",
    "          \n",
    "        return np.linalg.norm( x - x_train ) \n",
    "  \n",
    "\n",
    "  \n",
    "X_train1, X_test1, Y_train, Y_test = train_test_split( X, y, test_size = 0.3, random_state = 0 )\n",
    "\n",
    "scaler = StandardScaler()\n",
    "X_train = scaler.fit_transform(X_train1)\n",
    "X_test = scaler.transform(X_test1)\n",
    "\n",
    "# Model training\n",
    "\n",
    "model = KNN_Classifier( K = 4)\n",
    "\n",
    "model.fit( X_train, Y_train )\n",
    "\n",
    "\n",
    "\n",
    "\n",
    "# Prediction on test set\n",
    "\n",
    "Y_pred = model.predict( X_test )\n",
    "\n",
    "\n",
    "\n",
    "# measure performance\n",
    "\n",
    "correctly_classified = 0\n",
    "\n",
    "\n",
    "\n",
    "# counter\n",
    "\n",
    "count = 0\n",
    "\n",
    "for count in range( np.size( Y_pred ) ) :\n",
    "\n",
    "    if Y_test[count] == Y_pred[count] :\n",
    "\n",
    "        correctly_classified = correctly_classified + 1\n",
    "\n",
    "\n",
    "\n",
    "print( \"The Accuracy of the  model:\", round(( correctly_classified / count ) * 100.0,2) )\n"
   ]
  },
  {
   "cell_type": "markdown",
   "id": "1b181393",
   "metadata": {},
   "source": [
    "#### Confusion Matrix for Weighted KNN model"
   ]
  },
  {
   "cell_type": "code",
   "execution_count": 14,
   "id": "ead980c7",
   "metadata": {},
   "outputs": [
    {
     "name": "stdout",
     "output_type": "stream",
     "text": [
      "[[16.  0.  0.]\n",
      " [ 0. 17.  1.]\n",
      " [ 0.  0. 11.]]\n"
     ]
    }
   ],
   "source": [
    "def confusion_mat(actual, predicted):\n",
    "\n",
    "    # extract the different classes\n",
    "    classes = np.unique(actual)\n",
    "\n",
    "    # initialize the confusion matrix\n",
    "    confmat = np.zeros((len(classes), len(classes)))\n",
    "\n",
    "    # loop across the different combinations of actual / predicted classes\n",
    "    for i in range(len(classes)):\n",
    "        for j in range(len(classes)):\n",
    "\n",
    "           # count the number of instances in each combination of actual / predicted classes\n",
    "           confmat[i, j] = np.sum((actual == classes[i]) & (predicted == classes[j]))\n",
    "\n",
    "    return confmat\n",
    "\n",
    "# sample data\n",
    "actual = Y_test\n",
    "predicted = Y_pred\n",
    "\n",
    "# confusion matrix\n",
    "print(confusion_mat(actual, predicted))"
   ]
  },
  {
   "cell_type": "markdown",
   "id": "278e10ed",
   "metadata": {},
   "source": [
    "## Implementing the KNN Model using Sklearn"
   ]
  },
  {
   "cell_type": "code",
   "execution_count": 15,
   "id": "7c5cc679",
   "metadata": {},
   "outputs": [],
   "source": [
    "from sklearn.neighbors import KNeighborsClassifier\n",
    "from sklearn.metrics import accuracy_score\n",
    "from sklearn.metrics import confusion_matrix\n",
    "from sklearn.metrics import classification_report\n",
    "from sklearn.model_selection import train_test_split\n",
    "from sklearn.preprocessing import StandardScaler"
   ]
  },
  {
   "cell_type": "code",
   "execution_count": 16,
   "id": "7ee24564",
   "metadata": {},
   "outputs": [],
   "source": [
    "from sklearn.datasets import load_iris\n",
    "data = load_iris()\n",
    "X = data.data  \n",
    "y = data.target"
   ]
  },
  {
   "cell_type": "code",
   "execution_count": 17,
   "id": "7f38f6eb",
   "metadata": {},
   "outputs": [],
   "source": [
    "knn= KNeighborsClassifier(n_neighbors = 4)\n",
    "\n",
    "X_train_sklearn, X_test_sklearn, Y_train_sklearn, Y_test_sklearn = train_test_split( X, y, test_size = 0.3, random_state = 0 )\n",
    "\n",
    "scaler = StandardScaler()\n",
    "X_train_1 = scaler.fit_transform(X_train_sklearn)\n",
    "X_test_1 = scaler.transform(X_test_sklearn)\n",
    "\n"
   ]
  },
  {
   "cell_type": "code",
   "execution_count": 18,
   "id": "727e1dc7",
   "metadata": {},
   "outputs": [
    {
     "name": "stdout",
     "output_type": "stream",
     "text": [
      "The accuracy of the model is : 97.78\n"
     ]
    }
   ],
   "source": [
    "knn.fit(X_train_1, Y_train_sklearn)\n",
    "y_pred= knn.predict(X_test_1)\n",
    "\n",
    "Accuracy= accuracy_score(Y_test_sklearn,y_pred)\n",
    "\n",
    "print(\"The accuracy of the model is :\", round(Accuracy*100.0,2))"
   ]
  },
  {
   "cell_type": "markdown",
   "id": "167ec716",
   "metadata": {},
   "source": [
    "#### Confusion Matrix"
   ]
  },
  {
   "cell_type": "code",
   "execution_count": 19,
   "id": "d2933493",
   "metadata": {},
   "outputs": [
    {
     "data": {
      "text/plain": [
       "array([[16,  0,  0],\n",
       "       [ 0, 17,  1],\n",
       "       [ 0,  0, 11]])"
      ]
     },
     "execution_count": 19,
     "metadata": {},
     "output_type": "execute_result"
    }
   ],
   "source": [
    "confusion_matrix(Y_test_sklearn,y_pred)"
   ]
  },
  {
   "cell_type": "markdown",
   "id": "7d4c97c3",
   "metadata": {},
   "source": [
    "#### Classification Report"
   ]
  },
  {
   "cell_type": "code",
   "execution_count": 20,
   "id": "576ee43e",
   "metadata": {},
   "outputs": [
    {
     "name": "stdout",
     "output_type": "stream",
     "text": [
      "              precision    recall  f1-score   support\n",
      "\n",
      "           0       1.00      1.00      1.00        16\n",
      "           1       1.00      0.94      0.97        18\n",
      "           2       0.92      1.00      0.96        11\n",
      "\n",
      "    accuracy                           0.98        45\n",
      "   macro avg       0.97      0.98      0.98        45\n",
      "weighted avg       0.98      0.98      0.98        45\n",
      "\n"
     ]
    }
   ],
   "source": [
    "print(classification_report(Y_test_sklearn, y_pred))"
   ]
  },
  {
   "cell_type": "markdown",
   "id": "bdbd662c",
   "metadata": {},
   "source": [
    "#### Model Complexity"
   ]
  },
  {
   "cell_type": "code",
   "execution_count": 21,
   "id": "6a562acd",
   "metadata": {},
   "outputs": [],
   "source": [
    "train_accuracies = {}\n",
    "test_accuracies = {}\n",
    "import numpy as np\n",
    "neighbors = np.arange(1, 26)\n",
    "for neighbor in neighbors:    \n",
    "    knn = KNeighborsClassifier(n_neighbors=neighbor)   \n",
    "    knn.fit(X_train_sklearn, Y_train_sklearn)    \n",
    "    train_accuracies[neighbor] = knn.score(X_train_sklearn, Y_train_sklearn)    \n",
    "    test_accuracies[neighbor] = knn.score(X_test_sklearn, Y_test_sklearn)\n"
   ]
  },
  {
   "cell_type": "code",
   "execution_count": 22,
   "id": "87948a10",
   "metadata": {},
   "outputs": [
    {
     "data": {
      "image/png": "[encoded data removed]",
      "text/plain": [
       "<Figure size 576x432 with 1 Axes>"
      ]
     },
     "metadata": {
      "needs_background": "light"
     },
     "output_type": "display_data"
    }
   ],
   "source": [
    "import matplotlib.pyplot as plt\n",
    "plt.figure(figsize=(8, 6))\n",
    "plt.title(\"Model Complexity for varying values of K\")\n",
    "plt.plot(neighbors, train_accuracies.values(), label=\"Training Accuracy\")\n",
    "plt.plot(neighbors, test_accuracies.values(), label=\"Testing Accuracy\")\n",
    "plt.legend()\n",
    "plt.xlabel(\"Variance\")\n",
    "plt.ylabel(\"Bias\")\n",
    "plt.show()"
   ]
  },
  {
   "cell_type": "markdown",
   "id": "856c625f",
   "metadata": {},
   "source": [
    "#### Decision Boundaries"
   ]
  },
  {
   "cell_type": "code",
   "execution_count": 23,
   "id": "ec070682",
   "metadata": {},
   "outputs": [
    {
     "name": "stderr",
     "output_type": "stream",
     "text": [
      "/var/folders/fg/0cvyhxdj5v7503hv35z31yhr0000gn/T/ipykernel_90429/2413213104.py:38: MatplotlibDeprecationWarning: shading='flat' when X and Y have the same dimensions as C is deprecated since 3.3.  Either specify the corners of the quadrilaterals with X and Y, or pass shading='auto', 'nearest' or 'gouraud', or set rcParams['pcolor.shading'].  This will become an error two minor releases later.\n",
      "  plt.pcolormesh(xx, yy, Z, cmap=cmap_light)\n",
      "/var/folders/fg/0cvyhxdj5v7503hv35z31yhr0000gn/T/ipykernel_90429/2413213104.py:38: MatplotlibDeprecationWarning: shading='flat' when X and Y have the same dimensions as C is deprecated since 3.3.  Either specify the corners of the quadrilaterals with X and Y, or pass shading='auto', 'nearest' or 'gouraud', or set rcParams['pcolor.shading'].  This will become an error two minor releases later.\n",
      "  plt.pcolormesh(xx, yy, Z, cmap=cmap_light)\n"
     ]
    },
    {
     "data": {
      "image/png": "[encoded data removed]",
      "text/plain": [
       "<Figure size 432x288 with 1 Axes>"
      ]
     },
     "metadata": {
      "needs_background": "light"
     },
     "output_type": "display_data"
    },
    {
     "data": {
      "image/png": "[encoded data removed]",
      "text/plain": [
       "<Figure size 432x288 with 1 Axes>"
      ]
     },
     "metadata": {
      "needs_background": "light"
     },
     "output_type": "display_data"
    }
   ],
   "source": [
    "import numpy as np\n",
    "import matplotlib.pyplot as plt\n",
    "from matplotlib.colors import ListedColormap\n",
    "from sklearn import neighbors, datasets\n",
    "\n",
    "n_neighbors = 4\n",
    "\n",
    "# import some data to play with\n",
    "iris = datasets.load_iris()\n",
    "\n",
    "# we only take the first two features. We could avoid this ugly\n",
    "# slicing by using a two-dim dataset\n",
    "X = iris.data[:, :2]\n",
    "y = iris.target\n",
    "\n",
    "h = .02  # step size in the mesh\n",
    "\n",
    "# Create color maps\n",
    "cmap_light = ListedColormap(['orange', 'cyan', 'cornflowerblue'])\n",
    "cmap_bold = ListedColormap(['darkorange', 'c', 'darkblue'])\n",
    "\n",
    "for weights in ['uniform', 'distance']:\n",
    "    # we create an instance of Neighbours Classifier and fit the data.\n",
    "    clf = neighbors.KNeighborsClassifier(n_neighbors, weights=weights)\n",
    "    clf.fit(X, y)\n",
    "\n",
    "    # Plot the decision boundary. For that, we will assign a color to each\n",
    "    # point in the mesh [x_min, x_max]x[y_min, y_max].\n",
    "    x_min, x_max = X[:, 0].min() - 1, X[:, 0].max() + 1\n",
    "    y_min, y_max = X[:, 1].min() - 1, X[:, 1].max() + 1\n",
    "    xx, yy = np.meshgrid(np.arange(x_min, x_max, h),\n",
    "                         np.arange(y_min, y_max, h))\n",
    "    Z = clf.predict(np.c_[xx.ravel(), yy.ravel()])\n",
    "\n",
    "    # Put the result into a color plot\n",
    "    Z = Z.reshape(xx.shape)\n",
    "    plt.figure()\n",
    "    plt.pcolormesh(xx, yy, Z, cmap=cmap_light)\n",
    "\n",
    "    # Plot also the training points\n",
    "    plt.scatter(X[:, 0], X[:, 1], c=y, cmap=cmap_bold,\n",
    "                edgecolor='k', s=20)\n",
    "    plt.xlim(xx.min(), xx.max())\n",
    "    plt.ylim(yy.min(), yy.max())\n",
    "    plt.title(\"3-Class classification (k = %i, weights = '%s')\"\n",
    "              % (n_neighbors, weights))\n",
    "\n",
    "plt.show()"
   ]
  },
  {
   "cell_type": "markdown",
   "id": "421ec76c",
   "metadata": {},
   "source": [
    "### Observation"
   ]
  },
  {
   "cell_type": "raw",
   "id": "53b8b93d",
   "metadata": {},
   "source": [
    "From the above function we can see that when K=4 and random_state= 0 then the accuracy is 100% in KNN function as compared to using sklearn. This might be possible due to peculiar values in the data. For this reason we shall accuracy in both the methods using K fold cross validation  "
   ]
  },
  {
   "cell_type": "markdown",
   "id": "0d6f8ea7",
   "metadata": {},
   "source": [
    "## Creating the 5 Fold Cross_Val Function "
   ]
  },
  {
   "cell_type": "code",
   "execution_count": 24,
   "id": "00b0b14a",
   "metadata": {},
   "outputs": [],
   "source": [
    "class KNN:\n",
    "    def __init__(self, K):\n",
    "        self.K = K\n",
    "        self.X_train = None\n",
    "        self.y_train = None\n",
    "        \n",
    "    def fit(self, X_train, y_train):\n",
    "        self.X_train = X_train\n",
    "        self.y_train = y_train\n",
    "    \n",
    "    def predict_instance(self, test_instance):\n",
    "        inputs = self.X_train.copy()\n",
    "        # calculate distance between all training points and given test_point\n",
    "        inputs['distance'] = np.linalg.norm(inputs.values-test_instance.values, axis=1)\n",
    "        \n",
    "        # concatenate inputs and labels before sorting the distances\n",
    "        inputs = pd.concat([inputs, self.y_train], axis=1)\n",
    "\n",
    "        # sort based on distance\n",
    "        inputs = inputs.sort_values('distance', ascending=True)\n",
    "\n",
    "        # pick k neighbors\n",
    "        neighbors = inputs.head(self.K)\n",
    "\n",
    "        # getting target from dataframe column\n",
    "        classes = neighbors['Species'].tolist()\n",
    "        \n",
    "        from collections import Counter\n",
    "\n",
    "        # create counter of labels\n",
    "        majority_count = Counter(classes)\n",
    "        \n",
    "        return majority_count.most_common(1).pop()[0]\n",
    "        \n",
    "        \n",
    "    def predict(self, X_test):\n",
    "        predictions = np.zeros(X_test.shape[0])\n",
    "        # we want out index to be start from 0\n",
    "        X_test.reset_index(drop=True, inplace=True)\n",
    "        for index, row in X_test.iterrows():\n",
    "            predictions[index] = self.predict_instance(row)\n",
    "        return predictions\n",
    "\n",
    "def cross_validation(n, k, data, n_neighbors):\n",
    "    \"\"\"\n",
    "    n : # iterations\n",
    "    k : k-fold size\n",
    "    data: training data\n",
    "    n_neighbors: k in knn\n",
    "    \"\"\"\n",
    "    accuracies = []\n",
    "    \n",
    "    for _ in range(0, n):\n",
    "        # data shuffle\n",
    "        data.sample(frac=1)\n",
    "        \n",
    "        fold=int(data.shape[0]/k)\n",
    "        \n",
    "        for j in range(k):\n",
    "            test = data[j*fold:j*fold+fold]\n",
    "            train = data[~data.index.isin(test.index)]\n",
    "            X_train, y_train = train.drop('Species', axis=1), train['Species']\n",
    "            X_test, y_test = test.drop('Species', axis=1), test['Species']\n",
    "        \n",
    "            \n",
    "\n",
    "            \n",
    "            knn = KNN(n_neighbors)\n",
    "            knn.fit(X_train, y_train)\n",
    "            \n",
    "            predictions = knn.predict(X_test)\n",
    "            true_values = y_test.to_numpy()\n",
    "            accuracy = np.mean(predictions == true_values)\n",
    "            \n",
    "            accuracies.append(accuracy)\n",
    "    return np.array(accuracies).mean()"
   ]
  },
  {
   "cell_type": "code",
   "execution_count": 25,
   "id": "be7313e1",
   "metadata": {},
   "outputs": [],
   "source": [
    "k_values = np.arange(1, 10)\n",
    "cross_validation_fold = 5\n",
    "accuracies = []"
   ]
  },
  {
   "cell_type": "code",
   "execution_count": 26,
   "id": "87217093",
   "metadata": {},
   "outputs": [
    {
     "name": "stdout",
     "output_type": "stream",
     "text": [
      "[0.9266666666666665, 0.9266666666666665, 0.9066666666666666, 0.9199999999999999, 0.9133333333333333, 0.9199999999999999, 0.9200000000000002, 0.9133333333333333, 0.9200000000000002]\n"
     ]
    }
   ],
   "source": [
    "for k in k_values:\n",
    "    # run cross-validation with given neighbor size k\n",
    "    accuracy = cross_validation(1, cross_validation_fold, df, k)\n",
    "    accuracies.append(accuracy)\n",
    "print(accuracies)"
   ]
  },
  {
   "cell_type": "code",
   "execution_count": 27,
   "id": "2fac7279",
   "metadata": {},
   "outputs": [
    {
     "data": {
      "text/plain": [
       "Text(0.5, 0.98, 'Cross_val Score for different values of K')"
      ]
     },
     "execution_count": 27,
     "metadata": {},
     "output_type": "execute_result"
    },
    {
     "data": {
      "image/png": "[encoded data removed]",
      "text/plain": [
       "<Figure size 432x288 with 1 Axes>"
      ]
     },
     "metadata": {
      "needs_background": "light"
     },
     "output_type": "display_data"
    }
   ],
   "source": [
    "import matplotlib.pyplot as plt\n",
    "fig = plt.figure()\n",
    "plt.plot(k_values, accuracies)\n",
    "plt.xlabel('k in kNN')\n",
    "plt.ylabel('CV-Accuracy')\n",
    "fig.suptitle('Cross_val Score for different values of K', fontsize=20)"
   ]
  },
  {
   "cell_type": "markdown",
   "id": "beaf016f",
   "metadata": {},
   "source": [
    "## Implementing the 5 Fold Cross_Val through Sklearn "
   ]
  },
  {
   "cell_type": "code",
   "execution_count": 28,
   "id": "e86bd6cb",
   "metadata": {},
   "outputs": [
    {
     "name": "stdout",
     "output_type": "stream",
     "text": [
      "For K= 1, the 5- fold cross val score is given below:\n",
      "scores are [1.         0.86666667 1.         1.         0.93333333]\n",
      "------------------------------------------------------------------\n",
      "Mean is 0.96, standard deviation is 0.053333333333333316\n",
      "------------------------------------------------------------------\n",
      "Confidence Interval is [0.87333333 1.        ]\n",
      "------------------------------------------------------------------\n",
      "\n",
      "\n",
      "*******\n",
      "For K= 2, the 5- fold cross val score is given below:\n",
      "scores are [0.96666667 0.83333333 1.         0.96666667 0.93333333]\n",
      "------------------------------------------------------------------\n",
      "Mean is 0.9400000000000001, standard deviation is 0.0573488351136175\n",
      "------------------------------------------------------------------\n",
      "Confidence Interval is [0.84333333 0.99666667]\n",
      "------------------------------------------------------------------\n",
      "\n",
      "\n",
      "*******\n",
      "For K= 3, the 5- fold cross val score is given below:\n",
      "scores are [0.96666667 0.86666667 1.         1.         0.93333333]\n",
      "------------------------------------------------------------------\n",
      "Mean is 0.9533333333333334, standard deviation is 0.04988876515698587\n",
      "------------------------------------------------------------------\n",
      "Confidence Interval is [0.87333333 1.        ]\n",
      "------------------------------------------------------------------\n",
      "\n",
      "\n",
      "*******\n",
      "For K= 4, the 5- fold cross val score is given below:\n",
      "scores are [1.         0.86666667 1.         1.         0.93333333]\n",
      "------------------------------------------------------------------\n",
      "Mean is 0.96, standard deviation is 0.053333333333333316\n",
      "------------------------------------------------------------------\n",
      "Confidence Interval is [0.87333333 1.        ]\n",
      "------------------------------------------------------------------\n",
      "\n",
      "\n",
      "*******\n",
      "For K= 5, the 5- fold cross val score is given below:\n",
      "scores are [0.96666667 0.9        1.         1.         0.93333333]\n",
      "------------------------------------------------------------------\n",
      "Mean is 0.96, standard deviation is 0.038873012632301994\n",
      "------------------------------------------------------------------\n",
      "Confidence Interval is [0.90333333 1.        ]\n",
      "------------------------------------------------------------------\n",
      "\n",
      "\n",
      "*******\n",
      "For K= 6, the 5- fold cross val score is given below:\n",
      "scores are [1.         0.83333333 1.         1.         0.93333333]\n",
      "------------------------------------------------------------------\n",
      "Mean is 0.9533333333333334, standard deviation is 0.06531972647421808\n",
      "------------------------------------------------------------------\n",
      "Confidence Interval is [0.84333333 1.        ]\n",
      "------------------------------------------------------------------\n",
      "\n",
      "\n",
      "*******\n",
      "For K= 7, the 5- fold cross val score is given below:\n",
      "scores are [1.         0.86666667 1.         1.         0.9       ]\n",
      "------------------------------------------------------------------\n",
      "Mean is 0.9533333333333334, standard deviation is 0.0581186525805423\n",
      "------------------------------------------------------------------\n",
      "Confidence Interval is [0.87 1.  ]\n",
      "------------------------------------------------------------------\n",
      "\n",
      "\n",
      "*******\n",
      "For K= 8, the 5- fold cross val score is given below:\n",
      "scores are [1.         0.86666667 1.         0.96666667 0.96666667]\n",
      "------------------------------------------------------------------\n",
      "Mean is 0.96, standard deviation is 0.04898979485566354\n",
      "------------------------------------------------------------------\n",
      "Confidence Interval is [0.87666667 1.        ]\n",
      "------------------------------------------------------------------\n",
      "\n",
      "\n",
      "*******\n",
      "For K= 9, the 5- fold cross val score is given below:\n",
      "scores are [1.         0.9        1.         0.96666667 0.93333333]\n",
      "------------------------------------------------------------------\n",
      "Mean is 0.96, standard deviation is 0.038873012632301994\n",
      "------------------------------------------------------------------\n",
      "Confidence Interval is [0.90333333 1.        ]\n",
      "------------------------------------------------------------------\n",
      "\n",
      "\n",
      "*******\n"
     ]
    }
   ],
   "source": [
    "accuracy_list=[]\n",
    "def cross_val(K):\n",
    "    from sklearn.model_selection import cross_val_score, KFold\n",
    "    kf = KFold(n_splits=5, shuffle=True, random_state=0)\n",
    "    from sklearn.datasets import load_iris\n",
    "    data = load_iris()\n",
    "    X = data.data  \n",
    "    y = data.target\n",
    "    KNN = KNeighborsClassifier(K)\n",
    "    \n",
    "    cv_results = cross_val_score(KNN, X, y, cv=kf)\n",
    "\n",
    "    \n",
    "    print(\"For K= {0}, the 5- fold cross val score is given below:\".format(K))\n",
    "    \n",
    "    print(\"scores are\",cv_results)\n",
    "    print(\"------------------------------------------------------------------\")\n",
    "    \n",
    "    print(\"Mean is {0}, standard deviation is {1}\".format(np.mean(cv_results), np.std(cv_results)))\n",
    "    print(\"------------------------------------------------------------------\")\n",
    "    print(\"Confidence Interval is\",np.quantile(cv_results, [0.025, 0.975]))\n",
    "    print(\"------------------------------------------------------------------\")\n",
    "    \n",
    "    print(\"\\n\")\n",
    "    print(\"*******\")\n",
    "    return np.mean(cv_results)\n",
    "\n",
    "                   \n",
    "for i in range(1,10):\n",
    "    x= cross_val(i)\n",
    "    accuracy_list.append(x)\n",
    "    \n"
   ]
  },
  {
   "cell_type": "code",
   "execution_count": 29,
   "id": "cb0da012",
   "metadata": {},
   "outputs": [
    {
     "data": {
      "text/plain": [
       "Text(0.5, 0.98, 'Cross_val Score for different values of K')"
      ]
     },
     "execution_count": 29,
     "metadata": {},
     "output_type": "execute_result"
    },
    {
     "data": {
      "image/png": "[encoded data removed]",
      "text/plain": [
       "<Figure size 432x288 with 1 Axes>"
      ]
     },
     "metadata": {
      "needs_background": "light"
     },
     "output_type": "display_data"
    }
   ],
   "source": [
    "k_values= [1,2,3,4,5,6,7,8,9]\n",
    "fig2 = plt.figure()\n",
    "plt.plot(k_values, accuracy_list)\n",
    "plt.xlabel('k in kNN')\n",
    "plt.ylabel('CV-Accuracy')\n",
    "fig2.suptitle('Cross_val Score for different values of K', fontsize=20)"
   ]
  },
  {
   "cell_type": "raw",
   "id": "b5c594cd",
   "metadata": {},
   "source": [
    "From the cross validation score calculated above we can see in cross validation function accuracy is 96% although in cross val using sklearn accuracy was 75% for k = 4. However for K= 4 in cross val using sklearn accuracy is highest but in cross val function accuracy is highest for K =3 \n"
   ]
  },
  {
   "cell_type": "markdown",
   "id": "43eda08d",
   "metadata": {},
   "source": [
    "## Creating the Weighted KNN Model for k = 4"
   ]
  },
  {
   "cell_type": "code",
   "execution_count": 30,
   "id": "b9598a6a",
   "metadata": {},
   "outputs": [
    {
     "name": "stdout",
     "output_type": "stream",
     "text": [
      "The accuracy of the model using weights is:   93.0\n"
     ]
    }
   ],
   "source": [
    "class WeightedKNN: \n",
    "      \n",
    "    def __init__( self, K ) :  # initialising Value of K neighbours\n",
    "          \n",
    "        self.K = K\n",
    "          \n",
    "    # Function to store training set\n",
    "          \n",
    "    def fit( self, X_train, Y_train ) :\n",
    "          \n",
    "        self.X_train = X_train\n",
    "          \n",
    "        self.Y_train = Y_train\n",
    "          \n",
    "        # no_of_training_examples, no_of_features\n",
    "          \n",
    "        self.m, self.n = X_train.shape\n",
    "      \n",
    "    # Function for prediction\n",
    "          \n",
    "    def predict( self, X_test ) :\n",
    "          \n",
    "        self.X_test = X_test\n",
    "          \n",
    "        # no_of_test_examples, no_of_features\n",
    "          \n",
    "        self.m_test, self.n = X_test.shape\n",
    "          \n",
    "        # initialize Y_predict\n",
    "          \n",
    "        Y_predict = np.zeros( self.m_test )\n",
    "          \n",
    "        for i in range( self.m_test ) :\n",
    "              \n",
    "            x = self.X_test[i]\n",
    "              \n",
    "            # find the K nearest neighbors from current test example\n",
    "              \n",
    "            neighbors = np.zeros( self.K )\n",
    "              \n",
    "            neighbors = self.find_neighbors( x )\n",
    "              \n",
    "            # determining the class by max weights\n",
    "            weight_1 = 0\n",
    "            weight_2 = 0\n",
    "            weight_0 = 0\n",
    "            for t in neighbors:  # finding the max weights in different classes\n",
    "                if t[0] == 1:\n",
    "                    weight_1 += t[1] \n",
    "                elif t[0] ==2:\n",
    "                    weight_2 += t[1]\n",
    "                else:\n",
    "                    weight_0 += t[1]\n",
    "                    \n",
    "            weight_dict= {weight_1 : 1, weight_2 : 2, weight_0 : 0} #creating dictionary for weight:class pair\n",
    "            \n",
    "            max_weight= max(weight_dict.keys()) #finding the key with max weight\n",
    "           \n",
    "              \n",
    "            Y_predict[i] = weight_dict[max_weight]  # class with max weight\n",
    "            \n",
    "           \n",
    "              \n",
    "        return Y_predict\n",
    "      \n",
    "    # Function to find the K nearest neighbors to current test example\n",
    "            \n",
    "    def find_neighbors( self, x ) :\n",
    "          \n",
    "        # calculate all the euclidean distances between current \n",
    "        # test example x and training set X_train\n",
    "          \n",
    "        weights = np.zeros( self.m )\n",
    "          \n",
    "        for i in range( self.m ) :\n",
    "              \n",
    "            d = self.weighted( x, self.X_train[i] )\n",
    "              \n",
    "            weights[i] = d\n",
    "              \n",
    "        # sort Y_train according to weights and \n",
    "        # store into Y_train_sorted in reverse order i.e. max weight(closest data point) will be placed first\n",
    "          \n",
    "        inds = weights.argsort()\n",
    "        inds= inds[::-1]\n",
    "        weights= weights[::-1]\n",
    "          \n",
    "        Y_train_reversed = self.Y_train[inds]\n",
    "        \n",
    "        weight_target = np.column_stack((Y_train_reversed,weights))\n",
    "        \n",
    "          \n",
    "        return weight_target[:self.K]\n",
    "      \n",
    "    # Function to calculate euclidean distance\n",
    "              \n",
    "    def weighted( self, x, x_train ) :\n",
    "          \n",
    "        dist= np.linalg.norm( x - x_train ) # calculating the euclidean distanc\n",
    "        \n",
    "        square_distance= dist**2\n",
    "        \n",
    "        return 1/square_distance\n",
    "  \n",
    " # Splitting dataset into train and test set\n",
    "\n",
    "from sklearn.datasets import load_iris\n",
    "data = load_iris()\n",
    "X = data.data  \n",
    "y = data.target\n",
    "\n",
    "X_train1, X_test1, Y_train, Y_test = train_test_split( X, y, test_size = 0.3, random_state = 0 )\n",
    "\n",
    "scaler = StandardScaler()\n",
    "X_train = scaler.fit_transform(X_train1)\n",
    "X_test = scaler.transform(X_test1)\n",
    "\n",
    "\n",
    "# Model training\n",
    "\n",
    "model = WeightedKNN( K = 4)\n",
    "\n",
    "model.fit( X_train, Y_train )\n",
    "\n",
    "\n",
    "\n",
    "\n",
    "# Prediction on test set\n",
    "\n",
    "Y_pred = model.predict( X_test )\n",
    "\n",
    "\n",
    "\n",
    "# measure performance\n",
    "\n",
    "correctly_classified = 0\n",
    "\n",
    "\n",
    "\n",
    "# counter\n",
    "\n",
    "count = 0\n",
    "\n",
    "for count in range( np.size( Y_pred ) ) :\n",
    "\n",
    "    if Y_test[count] == Y_pred[count] :\n",
    "\n",
    "        correctly_classified = correctly_classified + 1\n",
    "\n",
    "\n",
    "\n",
    "print( \"The accuracy of the model using weights is:  \", round(correctly_classified / count,2 ) * 100.0 )\n",
    "\n"
   ]
  },
  {
   "cell_type": "markdown",
   "id": "04a9afd6",
   "metadata": {},
   "source": [
    "#### Confusion Matrix for Weighted KNN model"
   ]
  },
  {
   "cell_type": "code",
   "execution_count": 31,
   "id": "7e5d74a2",
   "metadata": {},
   "outputs": [
    {
     "name": "stdout",
     "output_type": "stream",
     "text": [
      "[[16.  0.  0.]\n",
      " [ 0. 15.  3.]\n",
      " [ 0.  1. 10.]]\n"
     ]
    }
   ],
   "source": [
    "def weight_confmat(actual, predicted):\n",
    "\n",
    "    # extract the different classes\n",
    "    classes = np.unique(actual)\n",
    "\n",
    "    # initialize the confusion matrix\n",
    "    confmat = np.zeros((len(classes), len(classes)))\n",
    "\n",
    "    # loop across the different combinations of actual / predicted classes\n",
    "    for i in range(len(classes)):\n",
    "        for j in range(len(classes)):\n",
    "\n",
    "           # count the number of instances in each combination of actual / predicted classes\n",
    "           confmat[i, j] = np.sum((actual == classes[i]) & (predicted == classes[j]))\n",
    "\n",
    "    return confmat\n",
    "\n",
    "# sample data\n",
    "actual = Y_test\n",
    "predicted = Y_pred\n",
    "\n",
    "# confusion matrix\n",
    "print(weight_confmat(actual, predicted))"
   ]
  },
  {
   "cell_type": "markdown",
   "id": "183db512",
   "metadata": {},
   "source": [
    "## Implementing weighted KNN using Sklearn"
   ]
  },
  {
   "cell_type": "code",
   "execution_count": 32,
   "id": "39a55c72",
   "metadata": {},
   "outputs": [],
   "source": [
    "from sklearn.datasets import load_iris\n",
    "data = load_iris()\n",
    "X = data.data  \n",
    "y = data.target\n",
    "\n",
    "knn= KNeighborsClassifier(n_neighbors = 4, weights= 'distance')\n",
    "\n",
    "X_train1, X_test1, y_train, y_test = train_test_split(X, y, test_size=0.3,stratify=y,random_state= 30)\n",
    "scaler = StandardScaler()\n",
    "X_train = scaler.fit_transform(X_train1)\n",
    "X_test = scaler.transform(X_test1)"
   ]
  },
  {
   "cell_type": "code",
   "execution_count": 33,
   "id": "13d3d0aa",
   "metadata": {},
   "outputs": [
    {
     "name": "stdout",
     "output_type": "stream",
     "text": [
      "The accuracy of the model is : 91.11\n"
     ]
    }
   ],
   "source": [
    "knn.fit(X_train, y_train)\n",
    "y_pred= knn.predict(X_test)\n",
    "\n",
    "Accuracy= accuracy_score(y_test,y_pred)\n",
    "\n",
    "print(\"The accuracy of the model is :\", round(Accuracy*100.0,2))"
   ]
  },
  {
   "cell_type": "markdown",
   "id": "a703b936",
   "metadata": {},
   "source": [
    "#### Confusion Matrix"
   ]
  },
  {
   "cell_type": "code",
   "execution_count": 34,
   "id": "d5d8e56c",
   "metadata": {},
   "outputs": [
    {
     "data": {
      "text/plain": [
       "array([[15,  0,  0],\n",
       "       [ 0, 14,  1],\n",
       "       [ 0,  3, 12]])"
      ]
     },
     "execution_count": 34,
     "metadata": {},
     "output_type": "execute_result"
    }
   ],
   "source": [
    "confusion_matrix(y_test,y_pred)"
   ]
  },
  {
   "cell_type": "markdown",
   "id": "030d1d6b",
   "metadata": {},
   "source": [
    "#### Observation"
   ]
  },
  {
   "cell_type": "raw",
   "id": "95ca13b7",
   "metadata": {},
   "source": [
    "From the weighted KNN created above and by using Sklearn , we can see that for k=4 the accuracy of weighted KNN is almost similar that is 94%"
   ]
  },
  {
   "cell_type": "markdown",
   "id": "4cd17faf",
   "metadata": {},
   "source": [
    "## Hyper-Parameter Tuning"
   ]
  },
  {
   "cell_type": "markdown",
   "id": "7e7c237f",
   "metadata": {},
   "source": [
    "### First Tuning with different values of K"
   ]
  },
  {
   "cell_type": "code",
   "execution_count": 35,
   "id": "cc39d4ba",
   "metadata": {},
   "outputs": [
    {
     "name": "stdout",
     "output_type": "stream",
     "text": [
      "Accuracy on test set by our model for k = 1 is 95.45454545454545:  \n",
      "-----------------------------------------------------\n",
      "Accuracy on test set by our model for k = 2 is 97.72727272727273:  \n",
      "-----------------------------------------------------\n",
      "Accuracy on test set by our model for k = 3 is 100.0:  \n",
      "-----------------------------------------------------\n",
      "Accuracy on test set by our model for k = 4 is 100.0:  \n",
      "-----------------------------------------------------\n",
      "Accuracy on test set by our model for k = 5 is 100.0:  \n",
      "-----------------------------------------------------\n",
      "Accuracy on test set by our model for k = 6 is 100.0:  \n",
      "-----------------------------------------------------\n",
      "Accuracy on test set by our model for k = 7 is 100.0:  \n",
      "-----------------------------------------------------\n",
      "Accuracy on test set by our model for k = 8 is 100.0:  \n",
      "-----------------------------------------------------\n",
      "Accuracy on test set by our model for k = 9 is 100.0:  \n",
      "-----------------------------------------------------\n"
     ]
    }
   ],
   "source": [
    "class GridSearchCV: \n",
    "      \n",
    "    def __init__( self, K ) :  # initialising Value of K neighbours\n",
    "          \n",
    "        self.K = K\n",
    "          \n",
    "    # Function to store training set\n",
    "          \n",
    "    def fit( self, X_train, Y_train ) :\n",
    "          \n",
    "        self.X_train = X_train\n",
    "          \n",
    "        self.Y_train = Y_train\n",
    "          \n",
    "        # no_of_training_examples, no_of_features\n",
    "          \n",
    "        self.m, self.n = X_train.shape\n",
    "      \n",
    "    # Function for prediction\n",
    "          \n",
    "    def predict( self, X_test ) :\n",
    "          \n",
    "        self.X_test = X_test\n",
    "          \n",
    "        # no_of_test_examples, no_of_features\n",
    "          \n",
    "        self.m_test, self.n = X_test.shape\n",
    "          \n",
    "        # initialize Y_predict\n",
    "          \n",
    "        Y_predict = np.zeros( self.m_test )\n",
    "          \n",
    "        for i in range( self.m_test ) :\n",
    "              \n",
    "            x = self.X_test[i]\n",
    "              \n",
    "            # find the K nearest neighbors from current test example\n",
    "              \n",
    "            neighbors = np.zeros( self.K )\n",
    "              \n",
    "            neighbors = self.find_neighbors( x )\n",
    "              \n",
    "            # most frequent class in K neighbors\n",
    "              \n",
    "            Y_predict[i] = mode( neighbors )[0][0]    \n",
    "              \n",
    "        return Y_predict\n",
    "      \n",
    "    # Function to find the K nearest neighbors to current test example\n",
    "            \n",
    "    def find_neighbors( self, x ) :\n",
    "          \n",
    "        # calculate all the euclidean distances between current \n",
    "        # test example x and training set X_train\n",
    "          \n",
    "        euclidean_distances = np.zeros( self.m )\n",
    "          \n",
    "        for i in range( self.m ) :\n",
    "              \n",
    "            d = self.euclidean( x, self.X_train[i] )\n",
    "              \n",
    "            euclidean_distances[i] = d\n",
    "          \n",
    "        # sort Y_train according to euclidean_distance_array and \n",
    "        # store into Y_train_sorted\n",
    "          \n",
    "        inds = euclidean_distances.argsort()\n",
    "          \n",
    "        Y_train_sorted = self.Y_train[inds]\n",
    "        \n",
    "          \n",
    "        return Y_train_sorted[:self.K]\n",
    "      \n",
    "    # Function to calculate euclidean distance\n",
    "              \n",
    "    def euclidean( self, x, x_train ) :\n",
    "          \n",
    "        return np.linalg.norm( x - x_train ) \n",
    "    \n",
    "\n",
    "from sklearn.datasets import load_iris\n",
    "\n",
    "data = load_iris()\n",
    "X = data.data  \n",
    "y = data.target\n",
    "\n",
    "X_train1, X_test1, Y_train, Y_test = train_test_split( X, y, test_size = 0.3, random_state = 0 )\n",
    "\n",
    "scaler = StandardScaler()\n",
    "X_train = scaler.fit_transform(X_train1)\n",
    "X_test = scaler.transform(X_test1)\n",
    "\n",
    "\n",
    "\n",
    "# Model training\n",
    "\n",
    "for i in range(1,10):\n",
    "    model = GridSearchCV( K = i )\n",
    "\n",
    "    model.fit( X_train, Y_train )\n",
    "\n",
    "\n",
    "\n",
    "\n",
    "    # Prediction on test set\n",
    "\n",
    "    Y_pred = model.predict( X_test )\n",
    "\n",
    "\n",
    "\n",
    "    # measure performance\n",
    "\n",
    "    correctly_classified = 0\n",
    "\n",
    "\n",
    "    # counter\n",
    "\n",
    "    count = 0\n",
    "\n",
    "    for count in range( np.size( Y_pred ) ) :\n",
    "\n",
    "        if Y_test[count] == Y_pred[count] :\n",
    "\n",
    "            correctly_classified = correctly_classified + 1\n",
    "\n",
    "\n",
    "\n",
    "    print( \"Accuracy on test set by our model for k = {0} is {1}:  \".format(i,( correctly_classified / count ) * 100.0 ))\n",
    "    print(\"-----------------------------------------------------\")\n",
    "\n"
   ]
  },
  {
   "cell_type": "markdown",
   "id": "a66c3401",
   "metadata": {},
   "source": [
    "### Creating Function for Hyperparameter Tuning for different values of neighbors and weights"
   ]
  },
  {
   "cell_type": "code",
   "execution_count": 36,
   "id": "e5b201fc",
   "metadata": {},
   "outputs": [],
   "source": [
    "class GridSearchCV1: \n",
    "      \n",
    "    def __init__( self, K, W) :  # initialising Value of K neighbours\n",
    "          \n",
    "        self.K = K\n",
    "        self.W= W\n",
    "          \n",
    "    # Function to store training set\n",
    "          \n",
    "    def fit( self, X_train, Y_train ) :\n",
    "          \n",
    "        self.X_train = X_train\n",
    "          \n",
    "        self.Y_train = Y_train\n",
    "          \n",
    "        # no_of_training_examples, no_of_features\n",
    "          \n",
    "        self.m, self.n = X_train.shape\n",
    "      \n",
    "    # Function for prediction\n",
    "          \n",
    "    def predict( self, X_test ) :\n",
    "          \n",
    "        self.X_test = X_test\n",
    "          \n",
    "        # no_of_test_examples, no_of_features\n",
    "          \n",
    "        self.m_test, self.n = X_test.shape\n",
    "          \n",
    "        # initialize Y_predict\n",
    "          \n",
    "        Y_predict = np.zeros( self.m_test )\n",
    "        \n",
    "        if self.W== \"uniform\":\n",
    "          \n",
    "            for i in range( self.m_test ) :\n",
    "\n",
    "                x = self.X_test[i]\n",
    "\n",
    "                # find the K nearest neighbors from current test example\n",
    "\n",
    "                neighbors = np.zeros( self.K )\n",
    "\n",
    "                neighbors = self.find_neighbors( x )\n",
    "\n",
    "                # most frequent class in K neighbors\n",
    "\n",
    "                Y_predict[i] = mode( neighbors )[0][0]    \n",
    "\n",
    "            return Y_predict\n",
    "        \n",
    "        elif self.W== \"distance\":\n",
    "            for i in range( self.m_test ) :\n",
    "              \n",
    "                x = self.X_test[i]\n",
    "\n",
    "                # find the K nearest neighbors from current test example\n",
    "\n",
    "                neighbors = np.zeros( self.K )\n",
    "\n",
    "                neighbors = self.find_neighbors( x )\n",
    "\n",
    "                # determining the class by max weights\n",
    "                weight_1 = 0\n",
    "                weight_2 = 0\n",
    "                weight_0 = 0\n",
    "                for t in neighbors:  # finding the max weights in different classes\n",
    "                    if t[0] == 1:\n",
    "                        weight_1 += t[1] \n",
    "                    elif t[0] ==2:\n",
    "                        weight_2 += t[1]\n",
    "                    else:\n",
    "                        weight_0 += t[1]\n",
    "\n",
    "                weight_dict= {weight_1 : 1, weight_2 : 2, weight_0 : 0} #creating dictionary for weight:class pair\n",
    "\n",
    "                max_weight= max(weight_dict.keys()) #finding the key with max weight\n",
    "\n",
    "\n",
    "                Y_predict[i] = weight_dict[max_weight]  # class with max weight\n",
    "            \n",
    "           \n",
    "              \n",
    "            return Y_predict\n",
    "            \n",
    "      \n",
    "    # Function to find the K nearest neighbors to current test example\n",
    "            \n",
    "    def find_neighbors( self, x ) :\n",
    "          \n",
    "        # calculate all the euclidean distances between current \n",
    "        # test example x and training set X_train\n",
    "        if self.W ==\"uniform\":\n",
    "          \n",
    "            euclidean_distances = np.zeros( self.m )\n",
    "\n",
    "            for i in range( self.m ) :\n",
    "\n",
    "                d = self.euclidean( x, self.X_train[i] )\n",
    "\n",
    "                euclidean_distances[i] = d\n",
    "\n",
    "            # sort Y_train according to euclidean_distance_array and \n",
    "            # store into Y_train_sorted\n",
    "\n",
    "            inds = euclidean_distances.argsort()\n",
    "\n",
    "            Y_train_sorted = self.Y_train[inds]\n",
    "\n",
    "\n",
    "            return Y_train_sorted[:self.K]\n",
    "        \n",
    "        elif self.W==\"distance\":\n",
    "            \n",
    "            weights = np.zeros( self.m )\n",
    "          \n",
    "            for i in range( self.m ) :\n",
    "\n",
    "                d = self.euclidean( x, self.X_train[i] )\n",
    "\n",
    "                weights[i] = d\n",
    "\n",
    "            # sort Y_train according to weights and \n",
    "            # store into Y_train_sorted in reverse order i.e. max weight(closest data point) will be placed first\n",
    "\n",
    "            inds = weights.argsort()\n",
    "            inds= inds[::-1]\n",
    "            weights= weights[::-1]\n",
    "\n",
    "            Y_train_reversed = self.Y_train[inds]\n",
    "\n",
    "            weight_target = np.column_stack((Y_train_reversed,weights))\n",
    "\n",
    "\n",
    "            return weight_target[:self.K]\n",
    "            \n",
    "            \n",
    "      \n",
    "    # Function to calculate euclidean distance\n",
    "              \n",
    "    def euclidean( self, x, x_train ) :\n",
    "        \n",
    "        if self.W== \"uniform\":\n",
    "          \n",
    "            return np.linalg.norm( x - x_train ) \n",
    "        \n",
    "        elif self.W== \"distance\":\n",
    "            \n",
    "            dist= np.linalg.norm( x - x_train ) # calculating the euclidean distanc\n",
    "        \n",
    "            square_distance= dist**2\n",
    "\n",
    "            return 1/square_distance\n",
    "            \n",
    "            \n",
    "        \n",
    "from sklearn.datasets import load_iris\n",
    "data = load_iris()\n",
    "X = data.data  \n",
    "y = data.target\n",
    "\n",
    " # Splitting dataset into train and test set\n",
    "from sklearn.preprocessing import StandardScaler\n",
    "\n",
    "  \n",
    "X_train1, X_test1, Y_train, Y_test = train_test_split( \n",
    "  X, y, test_size = 0.3, random_state = 30 )\n",
    "scaler = StandardScaler()\n",
    "X_train = scaler.fit_transform(X_train1)\n",
    "X_test = scaler.transform(X_test1)\n",
    "\n",
    "\n",
    "\n"
   ]
  },
  {
   "cell_type": "code",
   "execution_count": 37,
   "id": "c682f756",
   "metadata": {},
   "outputs": [
    {
     "name": "stdout",
     "output_type": "stream",
     "text": [
      "Accuracy on test set by our model for k = 1 is 90.9090909090909:  \n",
      "the value of K is 1 and Weight is uniform\n",
      "-----------------------------------------------------\n",
      "\n",
      "\n",
      "Accuracy on test set by our model for k = 1 is 90.9090909090909:  \n",
      "the value of K is 1 and Weight is distance\n",
      "-----------------------------------------------------\n",
      "\n",
      "\n",
      "Accuracy on test set by our model for k = 2 is 93.18181818181817:  \n",
      "the value of K is 2 and Weight is uniform\n",
      "-----------------------------------------------------\n",
      "\n",
      "\n",
      "Accuracy on test set by our model for k = 2 is 93.18181818181817:  \n",
      "the value of K is 2 and Weight is distance\n",
      "-----------------------------------------------------\n",
      "\n",
      "\n"
     ]
    },
    {
     "name": "stderr",
     "output_type": "stream",
     "text": [
      "/var/folders/fg/0cvyhxdj5v7503hv35z31yhr0000gn/T/ipykernel_90429/2145566147.py:153: RuntimeWarning: divide by zero encountered in double_scalars\n",
      "  return 1/square_distance\n"
     ]
    },
    {
     "name": "stdout",
     "output_type": "stream",
     "text": [
      "Accuracy on test set by our model for k = 3 is 93.18181818181817:  \n",
      "the value of K is 3 and Weight is uniform\n",
      "-----------------------------------------------------\n",
      "\n",
      "\n",
      "Accuracy on test set by our model for k = 3 is 95.45454545454545:  \n",
      "the value of K is 3 and Weight is distance\n",
      "-----------------------------------------------------\n",
      "\n",
      "\n",
      "Accuracy on test set by our model for k = 4 is 97.72727272727273:  \n",
      "the value of K is 4 and Weight is uniform\n",
      "-----------------------------------------------------\n",
      "\n",
      "\n",
      "Accuracy on test set by our model for k = 4 is 93.18181818181817:  \n",
      "the value of K is 4 and Weight is distance\n",
      "-----------------------------------------------------\n",
      "\n",
      "\n",
      "Accuracy on test set by our model for k = 5 is 93.18181818181817:  \n",
      "the value of K is 5 and Weight is uniform\n",
      "-----------------------------------------------------\n",
      "\n",
      "\n",
      "Accuracy on test set by our model for k = 5 is 90.9090909090909:  \n",
      "the value of K is 5 and Weight is distance\n",
      "-----------------------------------------------------\n",
      "\n",
      "\n",
      "Accuracy on test set by our model for k = 6 is 93.18181818181817:  \n",
      "the value of K is 6 and Weight is uniform\n",
      "-----------------------------------------------------\n",
      "\n",
      "\n",
      "Accuracy on test set by our model for k = 6 is 90.9090909090909:  \n",
      "the value of K is 6 and Weight is distance\n",
      "-----------------------------------------------------\n",
      "\n",
      "\n",
      "Accuracy on test set by our model for k = 7 is 95.45454545454545:  \n",
      "the value of K is 7 and Weight is uniform\n",
      "-----------------------------------------------------\n",
      "\n",
      "\n",
      "Accuracy on test set by our model for k = 7 is 90.9090909090909:  \n",
      "the value of K is 7 and Weight is distance\n",
      "-----------------------------------------------------\n",
      "\n",
      "\n",
      "Accuracy on test set by our model for k = 8 is 93.18181818181817:  \n",
      "the value of K is 8 and Weight is uniform\n",
      "-----------------------------------------------------\n",
      "\n",
      "\n",
      "Accuracy on test set by our model for k = 8 is 93.18181818181817:  \n",
      "the value of K is 8 and Weight is distance\n",
      "-----------------------------------------------------\n",
      "\n",
      "\n",
      "Accuracy on test set by our model for k = 9 is 95.45454545454545:  \n",
      "the value of K is 9 and Weight is uniform\n",
      "-----------------------------------------------------\n",
      "\n",
      "\n",
      "Accuracy on test set by our model for k = 9 is 90.9090909090909:  \n",
      "the value of K is 9 and Weight is distance\n",
      "-----------------------------------------------------\n",
      "\n",
      "\n",
      "Accuracy on test set by our model for k = 10 is 97.72727272727273:  \n",
      "the value of K is 10 and Weight is uniform\n",
      "-----------------------------------------------------\n",
      "\n",
      "\n",
      "Accuracy on test set by our model for k = 10 is 93.18181818181817:  \n",
      "the value of K is 10 and Weight is distance\n",
      "-----------------------------------------------------\n",
      "\n",
      "\n",
      "**************************************\n",
      "The best accuracy is 97.72727272727273\n",
      "The best value of K  is 4\n",
      "The best value of Weight  is uniform\n"
     ]
    }
   ],
   "source": [
    "K_val= [1,2,3,4,5,6,7,8,9,10]\n",
    "\n",
    "Weight_val= [\"uniform\", \"distance\"]\n",
    "\n",
    "max_accuracy_val=0\n",
    "    \n",
    "for n_val in K_val:\n",
    "    for w in Weight_val:\n",
    "        \n",
    "        model1 = GridSearchCV1(n_val, w)\n",
    "\n",
    "        model1.fit( X_train, Y_train )\n",
    "\n",
    "\n",
    "\n",
    "\n",
    "        # Prediction on test set\n",
    "\n",
    "        Y_pred = model1.predict( X_test )\n",
    "\n",
    "\n",
    "\n",
    "        # measure performance\n",
    "\n",
    "        correctly_classified = 0\n",
    "\n",
    "\n",
    "        # counter\n",
    "\n",
    "        count = 0\n",
    "\n",
    "        for count in range( np.size( Y_pred ) ) :\n",
    "\n",
    "            if Y_test[count] == Y_pred[count] :\n",
    "\n",
    "                correctly_classified = correctly_classified + 1\n",
    "    \n",
    "        \n",
    "        acc= ( correctly_classified / count )* 100.0\n",
    "        \n",
    "        if max_accuracy_val<acc:\n",
    "            max_accuracy_val= acc\n",
    "            Best_K= n_val\n",
    "            Best_W= w\n",
    "\n",
    "\n",
    "        print( \"Accuracy on test set by our model for k = {0} is {1}:  \".format(n_val,( correctly_classified / count )* 100.0 ))\n",
    "        print(\"the value of K is {0} and Weight is {1}\".format(n_val,w))\n",
    "        print(\"-----------------------------------------------------\")\n",
    "        print(\"\\n\")\n",
    "\n",
    "        \n",
    "print(\"**************************************\")\n",
    "print(\"The best accuracy is\", max_accuracy_val)\n",
    "print(\"The best value of K  is\", Best_K)\n",
    "print(\"The best value of Weight  is\", Best_W)\n",
    "\n"
   ]
  },
  {
   "cell_type": "markdown",
   "id": "10e6044a",
   "metadata": {},
   "source": [
    "### Hyperparameter Tuning for different values of neighbors and weights using Sklearn"
   ]
  },
  {
   "cell_type": "markdown",
   "id": "47e5f3fb",
   "metadata": {},
   "source": [
    "#### Using GridSearchCV"
   ]
  },
  {
   "cell_type": "code",
   "execution_count": 38,
   "id": "6c9e07ba",
   "metadata": {},
   "outputs": [
    {
     "name": "stdout",
     "output_type": "stream",
     "text": [
      "The best parameter is  {'metric': 'euclidean', 'n_neighbors': 6, 'weights': 'uniform'}\n",
      "The best accuracy score is  0.980952380952381\n"
     ]
    }
   ],
   "source": [
    "from sklearn.model_selection import GridSearchCV\n",
    "\n",
    "from sklearn.datasets import load_iris\n",
    "data = load_iris()\n",
    "X = data.data  \n",
    "y = data.target\n",
    "\n",
    "X_train1, X_test1, y_train, y_test = train_test_split(X, y, test_size=0.3,stratify=y,random_state= 30)\n",
    "\n",
    "scaler = StandardScaler()\n",
    "X_train = scaler.fit_transform(X_train1)\n",
    "X_test = scaler.transform(X_test1)\n",
    "\n",
    "metrics = ['euclidean'] \n",
    "neighbors = np.arange(1, 10)\n",
    "weight=['uniform','distance']\n",
    "param_grid  = dict(metric=metrics, n_neighbors=neighbors,weights=weight )\n",
    "\n",
    "knn = KNeighborsClassifier()\n",
    "knn_cv = GridSearchCV(knn, param_grid)\n",
    "knn_cv.fit(X_train, y_train)\n",
    "print(\"The best parameter is \",knn_cv.best_params_) \n",
    "print(\"The best accuracy score is \",knn_cv.best_score_)"
   ]
  },
  {
   "cell_type": "markdown",
   "id": "3de3d34c",
   "metadata": {},
   "source": [
    "#### Using RandomSearchCV"
   ]
  },
  {
   "cell_type": "code",
   "execution_count": 39,
   "id": "0eb19762",
   "metadata": {},
   "outputs": [
    {
     "name": "stdout",
     "output_type": "stream",
     "text": [
      "The best parameter is  {'weights': 'uniform', 'n_neighbors': 9, 'metric': 'euclidean'}\n",
      "The best accuracy score is  0.980952380952381\n"
     ]
    }
   ],
   "source": [
    "from sklearn.model_selection import RandomizedSearchCV\n",
    "\n",
    "from sklearn.datasets import load_iris\n",
    "data = load_iris()\n",
    "X = data.data  \n",
    "y = data.target\n",
    "\n",
    "X_train, X_test, y_train, y_test = train_test_split(X, y, test_size=0.3,stratify=y,random_state= 30)\n",
    "metrics = ['euclidean'] \n",
    "neighbors = np.arange(1, 10)\n",
    "weight=['uniform','distance']\n",
    "param_grid  = dict(metric=metrics, n_neighbors=neighbors,weights=weight )\n",
    "\n",
    "knn = KNeighborsClassifier()\n",
    "knn_cv = RandomizedSearchCV(knn, param_grid)\n",
    "knn_cv.fit(X_train, y_train)\n",
    "print(\"The best parameter is \",knn_cv.best_params_) \n",
    "print(\"The best accuracy score is \",knn_cv.best_score_)"
   ]
  },
  {
   "cell_type": "markdown",
   "id": "b17e5bd1",
   "metadata": {},
   "source": [
    "#### Observation"
   ]
  },
  {
   "cell_type": "raw",
   "id": "37f9facf",
   "metadata": {},
   "source": [
    "From the Hyperparameter tuning function created above, we can see that the best value for weights is distance and this is also similar to randomsearchCV which was implemented using Sklearn. \n",
    "By doing hyperparameter tuning, we see the best parameters as weight=uniform, K= 4 ,accuracy = 97%\n",
    "By doing RandomSearchCV, we see the best paramters are weight= uniform, K= 9 and accuracy = 98.9%"
   ]
  },
  {
   "cell_type": "code",
   "execution_count": null,
   "id": "e289e03a",
   "metadata": {},
   "outputs": [],
   "source": []
  }
 ],
 "metadata": {
  "kernelspec": {
   "display_name": "Python 3 (ipykernel)",
   "language": "python",
   "name": "python3"
  },
  "language_info": {
   "codemirror_mode": {
    "name": "ipython",
    "version": 3
   },
   "file_extension": ".py",
   "mimetype": "text/x-python",
   "name": "python",
   "nbconvert_exporter": "python",
   "pygments_lexer": "ipython3",
   "version": "3.9.7"
  }
 },
 "nbformat": 4,
 "nbformat_minor": 5
}
